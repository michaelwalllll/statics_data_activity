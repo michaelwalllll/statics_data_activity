{
  "cells": [
    {
      "cell_type": "code",
      "execution_count": 54,
      "metadata": {
        "tags": [
          "hide-input",
          "hide-output"
        ],
        "id": "fdUIuOtI-wQ2"
      },
      "outputs": [],
      "source": [
        "import numpy as np\n",
        "import matplotlib.pyplot as plt\n",
        "%matplotlib inline\n",
        "import matplotlib_inline\n",
        "matplotlib_inline.backend_inline.set_matplotlib_formats('svg')\n",
        "import seaborn as sns\n",
        "sns.set_context(\"paper\")\n",
        "sns.set_style(\"ticks\");"
      ]
    },
    {
      "cell_type": "markdown",
      "metadata": {
        "id": "iqb041U3-wRJ"
      },
      "source": [
        "# ME 270 - Activity 1 - Shear Force and Bending Moment Diagrams\n",
        "\n",
        "In this activity, we will provide a basic introduction to Python programming motivated by the goal of plotting shear-force and bending-moment diagrams.\n",
        "\n",
        "We see here below a beam with an applied load and an applied moment at some arbitrary points.\n",
        "\n",
        "<figure>\n",
        " <img src=\"https://raw.githubusercontent.com/ebilionis/core-me-data-science-activities-public/refs/heads/main/images/Statics1_beam.png\" width=\"700\" height=\"300\">\n",
        "</figure>\n",
        "\n",
        "We will calculate the shear force and bending moment at different points along the beam and plot the diagrams.\n"
      ]
    },
    {
      "cell_type": "markdown",
      "metadata": {
        "id": "Gs85GUnS-wRS"
      },
      "source": [
        "### Question 1 - Basic Python Syntax\n",
        "\n",
        "Let's first review some basic Python syntax, starting with variable assignment. It is always good practice to assign variables and not hard-code values in your calculations. It is also good practice to use meaningful variable names and comments to explain the purpose of the variable and the units of the value."
      ]
    },
    {
      "cell_type": "code",
      "execution_count": 2,
      "metadata": {
        "id": "4KZ9SeU0-wRU"
      },
      "outputs": [],
      "source": [
        "# Dimension of beam AD\n",
        "d_ab = 6 # m\n",
        "d_bc = 3.0 # m\n",
        "d_cd = 6.0 # m"
      ]
    },
    {
      "cell_type": "markdown",
      "metadata": {
        "id": "sXHmWa1e-wRX"
      },
      "source": [
        "Exploring variable types and operations is also important. Types are implicit in Python, but you can always check the type of a variable using the `type()` function."
      ]
    },
    {
      "cell_type": "code",
      "execution_count": 3,
      "metadata": {
        "colab": {
          "base_uri": "https://localhost:8080/",
          "height": 0
        },
        "id": "B7P7O8E5-wRY",
        "outputId": "c5e37374-a03e-4772-8dfb-5727d873362c"
      },
      "outputs": [
        {
          "output_type": "execute_result",
          "data": {
            "text/plain": [
              "int"
            ]
          },
          "metadata": {},
          "execution_count": 3
        }
      ],
      "source": [
        "type(d_ab)"
      ]
    },
    {
      "cell_type": "code",
      "execution_count": 4,
      "metadata": {
        "colab": {
          "base_uri": "https://localhost:8080/",
          "height": 0
        },
        "id": "-R62yXG7-wRa",
        "outputId": "17ca12f5-41cf-4df5-d4e2-77441f4e02b8"
      },
      "outputs": [
        {
          "output_type": "execute_result",
          "data": {
            "text/plain": [
              "float"
            ]
          },
          "metadata": {},
          "execution_count": 4
        }
      ],
      "source": [
        "type(d_bc)"
      ]
    },
    {
      "cell_type": "code",
      "execution_count": 5,
      "metadata": {
        "colab": {
          "base_uri": "https://localhost:8080/",
          "height": 0
        },
        "id": "VAZkVNju-wRe",
        "outputId": "657f6cc6-e592-4b0b-98ac-12cf91ca514f"
      },
      "outputs": [
        {
          "output_type": "execute_result",
          "data": {
            "text/plain": [
              "float"
            ]
          },
          "metadata": {},
          "execution_count": 5
        }
      ],
      "source": [
        "type(d_cd)"
      ]
    },
    {
      "cell_type": "markdown",
      "metadata": {
        "id": "J923X0XF-wRf"
      },
      "source": [
        "Do you see why `d_ab` is an integer and `d_cd` is a float? When we assigned the value of `d_ab` we use did not use a decimal point, so Python interprets it as an integer. When we assigned the value of `d_cd` we used a decimal point, so Python interprets it as a float. We can also convert between types using the `int()` and `float()` functions."
      ]
    },
    {
      "cell_type": "code",
      "execution_count": 6,
      "metadata": {
        "colab": {
          "base_uri": "https://localhost:8080/",
          "height": 0
        },
        "id": "nERxRhQz-wRh",
        "outputId": "9af44a2f-fc0f-40d8-deee-67d58c1c59a1"
      },
      "outputs": [
        {
          "output_type": "execute_result",
          "data": {
            "text/plain": [
              "int"
            ]
          },
          "metadata": {},
          "execution_count": 6
        }
      ],
      "source": [
        "d_cd = int(d_cd)\n",
        "type(d_cd)"
      ]
    },
    {
      "cell_type": "markdown",
      "metadata": {
        "id": "8nMgSJm2-wRi"
      },
      "source": [
        "Understanding the types of variables is important because it determines how they can be used in calculations. Let's add up our three segment lengths to find the total length of the beam."
      ]
    },
    {
      "cell_type": "code",
      "execution_count": 7,
      "metadata": {
        "colab": {
          "base_uri": "https://localhost:8080/",
          "height": 0
        },
        "id": "V4G3Zcca-wRi",
        "outputId": "d25a283c-9716-4f89-b6a6-e5bcb0962682"
      },
      "outputs": [
        {
          "output_type": "execute_result",
          "data": {
            "text/plain": [
              "float"
            ]
          },
          "metadata": {},
          "execution_count": 7
        }
      ],
      "source": [
        "L = d_ab + d_bc + d_cd\n",
        "type(L)"
      ]
    },
    {
      "cell_type": "markdown",
      "metadata": {
        "id": "4nyDVPf7-wRl"
      },
      "source": [
        "So what is happening here is that the integer `d_ab` is being added to the float `d_cd` and the result is a float. This is because Python will always convert the integer to a float when adding it to a float.\n",
        "\n",
        "Other operations like subtraction, multiplication, division, and exponentiation work similarly. Let me show you the python syntax for these operations."
      ]
    },
    {
      "cell_type": "code",
      "execution_count": 8,
      "metadata": {
        "colab": {
          "base_uri": "https://localhost:8080/",
          "height": 0
        },
        "id": "QoKUqiU2-wRm",
        "outputId": "5baa8b65-15ca-458e-ebbc-893acc6a7c68"
      },
      "outputs": [
        {
          "output_type": "execute_result",
          "data": {
            "text/plain": [
              "3.0"
            ]
          },
          "metadata": {},
          "execution_count": 8
        }
      ],
      "source": [
        "x = 5.0 - 2\n",
        "x"
      ]
    },
    {
      "cell_type": "code",
      "execution_count": 9,
      "metadata": {
        "colab": {
          "base_uri": "https://localhost:8080/",
          "height": 0
        },
        "id": "IA3bAumA-wRm",
        "outputId": "4ad409c2-d1bc-469e-81e8-35628a1e6ae1"
      },
      "outputs": [
        {
          "output_type": "execute_result",
          "data": {
            "text/plain": [
              "6.0"
            ]
          },
          "metadata": {},
          "execution_count": 9
        }
      ],
      "source": [
        "y = 2 * 3.0\n",
        "y"
      ]
    },
    {
      "cell_type": "code",
      "execution_count": 10,
      "metadata": {
        "colab": {
          "base_uri": "https://localhost:8080/",
          "height": 0
        },
        "id": "32g5cyE8-wRp",
        "outputId": "53795564-081d-47bf-b026-fb1a792caccd"
      },
      "outputs": [
        {
          "output_type": "execute_result",
          "data": {
            "text/plain": [
              "2.5"
            ]
          },
          "metadata": {},
          "execution_count": 10
        }
      ],
      "source": [
        "z = 5.0 / 2\n",
        "z"
      ]
    },
    {
      "cell_type": "markdown",
      "metadata": {
        "id": "mA7D3PJP-wRp"
      },
      "source": [
        "Note that the `**` operator is used for exponentiation in Python. Not the `^` operator as in some other programming languages. The `^` operator is used for bitwise XOR in Python."
      ]
    },
    {
      "cell_type": "code",
      "execution_count": 11,
      "metadata": {
        "colab": {
          "base_uri": "https://localhost:8080/",
          "height": 0
        },
        "id": "wP3UVxEG-wRq",
        "outputId": "c66d913f-cf9c-44cc-d542-235a5825353c"
      },
      "outputs": [
        {
          "output_type": "execute_result",
          "data": {
            "text/plain": [
              "8.0"
            ]
          },
          "metadata": {},
          "execution_count": 11
        }
      ],
      "source": [
        "a = 2. ** 3\n",
        "a"
      ]
    },
    {
      "cell_type": "markdown",
      "metadata": {
        "id": "bwkKtYVs-wRq"
      },
      "source": [
        "Let's use some of the operations that we learned to do some calculations about our beam. Let's start with a moment calculation. We know that in equilibrium, the sum of the moments about any point must be zero. Let's calculate the moment about point A.\n",
        "\n",
        "$$\n",
        "\\sum M = 0\n",
        "$$\n",
        "\n",
        "$$\n",
        "\\sum M = M_c - (F_b)(d_{ab}) + (B_y)(L)\n",
        "$$\n",
        "\n",
        "Where we have some known applied moment $M_c$, a known applied force $F_b$, and we can calculate the reaction force $B_y$.\n",
        "\n",
        "Let's rearrange for $B_y$\n",
        "\n",
        "$$\n",
        "B_y = \\frac{F_b d_{ab} - M_c}{L}\n",
        "$$\n",
        "\n",
        "Let me assign some values to these variables and calculate the reaction force $B_y$."
      ]
    },
    {
      "cell_type": "code",
      "execution_count": 12,
      "metadata": {
        "colab": {
          "base_uri": "https://localhost:8080/",
          "height": 0
        },
        "id": "8IGRY5cI-wRq",
        "outputId": "f63d01b4-73f0-4a9e-cbcc-28272d728cb4"
      },
      "outputs": [
        {
          "output_type": "execute_result",
          "data": {
            "text/plain": [
              "2.0"
            ]
          },
          "metadata": {},
          "execution_count": 12
        }
      ],
      "source": [
        "# Applied force at point B\n",
        "F_b = 10.0 # kN\n",
        "\n",
        "# Applied moment at point C\n",
        "M_c = 30.0 # kN*m\n",
        "\n",
        "# Solve for the reaction force By\n",
        "B_y = (F_b * d_cd - M_c) / L\n",
        "B_y"
      ]
    },
    {
      "cell_type": "markdown",
      "metadata": {
        "id": "HWAt0BV9-wRr"
      },
      "source": [
        "Now, we have done this calculation, I want to see the value of the reaction force $B_y$. Let's look at a nicer way to print the value of a variable using the `print()` function."
      ]
    },
    {
      "cell_type": "code",
      "execution_count": 13,
      "metadata": {
        "colab": {
          "base_uri": "https://localhost:8080/",
          "height": 0
        },
        "id": "qsjelAx2-wRr",
        "outputId": "1a594f5e-e411-4ac4-e882-7c6a95c0600d"
      },
      "outputs": [
        {
          "output_type": "stream",
          "name": "stdout",
          "text": [
            "The y component reaction force at point B = 2.00 kN\n"
          ]
        }
      ],
      "source": [
        "print(f\"The y component reaction force at point B = {B_y:.2f} kN\")"
      ]
    },
    {
      "cell_type": "markdown",
      "metadata": {
        "id": "rHsmZwRq-wRr"
      },
      "source": [
        "Notice all of the different ways we can format the output. The `f-string` method is the most modern and most readable. You are maintaining the flexibility, not hard-coding the variable name, and you can format the output to a specific number of decimal places, given by the number after the colon. Let me show you how we can change the output to different decimal places."
      ]
    },
    {
      "cell_type": "code",
      "execution_count": 14,
      "metadata": {
        "colab": {
          "base_uri": "https://localhost:8080/",
          "height": 0
        },
        "id": "ey7rBl9k-wRs",
        "outputId": "22b44748-9c99-484f-cc14-19e0e2aec9c6"
      },
      "outputs": [
        {
          "output_type": "stream",
          "name": "stdout",
          "text": [
            "The y component reaction force at point B = 2.00000 kN\n"
          ]
        }
      ],
      "source": [
        "print(f\"The y component reaction force at point B = {B_y:.5f} kN\")"
      ]
    },
    {
      "cell_type": "markdown",
      "metadata": {
        "id": "5aq3Eath-wRs"
      },
      "source": [
        "Or using scientific notation."
      ]
    },
    {
      "cell_type": "code",
      "execution_count": 15,
      "metadata": {
        "colab": {
          "base_uri": "https://localhost:8080/",
          "height": 0
        },
        "id": "RuvTfVno-wRt",
        "outputId": "3f2fdf1e-a94d-4ce9-dc7b-c36990d94605"
      },
      "outputs": [
        {
          "output_type": "stream",
          "name": "stdout",
          "text": [
            "The y component reaction force at point B = 2.00e+00 kN\n"
          ]
        }
      ],
      "source": [
        "print(f\"The y component reaction force at point B = {B_y:.2e} kN\")"
      ]
    },
    {
      "cell_type": "markdown",
      "metadata": {
        "id": "UcFGSDBr-wRt"
      },
      "source": [
        "Now I want you do use what we have learned to calculate the reaction force $A_y$.\n",
        "\n",
        "Print out the value to 2 decimal places, also print out the type of the variable using the print function."
      ]
    },
    {
      "cell_type": "code",
      "execution_count": 16,
      "metadata": {
        "colab": {
          "base_uri": "https://localhost:8080/",
          "height": 0
        },
        "id": "Zf4Yvt8c-wRt",
        "outputId": "1422af12-6b27-4669-8eab-628e669ec780"
      },
      "outputs": [
        {
          "output_type": "stream",
          "name": "stdout",
          "text": [
            "The y component reaction force at point A = 8.00 kN\n",
            "Type = <class 'float'>\n"
          ]
        }
      ],
      "source": [
        "A_y = F_b - B_y\n",
        "print(f\"The y component reaction force at point A = {A_y:.2f} kN\")\n",
        "print(f\"Type = {type(A_y)}\")"
      ]
    },
    {
      "cell_type": "markdown",
      "metadata": {
        "id": "tZtgaoGh-wRu"
      },
      "source": [
        "### Question 2 - Data Structures\n",
        "\n",
        "We will need to organize our data in a way that makes it easy to calculate the shear force and bending moment at different points along the beam. Let's start reviewing some basic data structures in Python.\n",
        "\n",
        "Tuples are ordered collections of elements that are immutable. This means that once you create a tuple, you cannot change the elements inside it. You can access elements of a tuple using indexing, slicing, or unpacking.\n",
        "\n",
        "Let's make a tuples of our distances."
      ]
    },
    {
      "cell_type": "code",
      "execution_count": 17,
      "metadata": {
        "colab": {
          "base_uri": "https://localhost:8080/",
          "height": 0
        },
        "id": "yW8s8FlR-wRu",
        "outputId": "a0582fe8-8855-4b88-c2cc-68a0923be8be"
      },
      "outputs": [
        {
          "output_type": "execute_result",
          "data": {
            "text/plain": [
              "tuple"
            ]
          },
          "metadata": {},
          "execution_count": 17
        }
      ],
      "source": [
        "# Construct a tuple of the distances\n",
        "ds = (d_ab, d_bc, d_cd)\n",
        "type(ds)"
      ]
    },
    {
      "cell_type": "markdown",
      "metadata": {
        "id": "0nHRo-Q9-wRu"
      },
      "source": [
        "We can recover an element from the tuple using indexing. Remember that Python indexing starts at 0."
      ]
    },
    {
      "cell_type": "code",
      "execution_count": 18,
      "metadata": {
        "colab": {
          "base_uri": "https://localhost:8080/",
          "height": 0
        },
        "id": "5S0CKLEh-wRx",
        "outputId": "3e7b80b9-67d6-473b-e59a-c3052ae4a385"
      },
      "outputs": [
        {
          "output_type": "stream",
          "name": "stdout",
          "text": [
            "The first element of ds is 6\n"
          ]
        }
      ],
      "source": [
        "d = ds[0]\n",
        "print(f'The first element of ds is {d}')"
      ]
    },
    {
      "cell_type": "markdown",
      "metadata": {
        "id": "fymFVRJx-wRy"
      },
      "source": [
        "Let me show you what I mean by tuples being immutable. Let's try to change the value of the first element of the tuple."
      ]
    },
    {
      "cell_type": "code",
      "execution_count": 20,
      "metadata": {
        "colab": {
          "base_uri": "https://localhost:8080/",
          "height": 0
        },
        "id": "ubHnc6dP-wRy",
        "outputId": "f46fed23-2b80-456b-8533-f319ac762727"
      },
      "outputs": [
        {
          "output_type": "stream",
          "name": "stdout",
          "text": [
            "TypeError: 'tuple' object does not support item assignment\n"
          ]
        }
      ],
      "source": [
        "# Modify the first element of ds\n",
        "new_d = 10.0 # m\n",
        "\n",
        "# Attempt to modify the first element of ds\n",
        "try:\n",
        "    ds[0] = new_d\n",
        "except TypeError as e:\n",
        "    print(f\"TypeError: {e}\")"
      ]
    },
    {
      "cell_type": "markdown",
      "metadata": {
        "id": "if7TL5o2-wRz"
      },
      "source": [
        "If we want to change the value of an element in a collection, we should use a list. Lists are ordered collections of elements that are mutable. We use a `[]` to form lists rather than the `()` that we use to form tuples. This means that you can change the elements inside a list. You can access elements of a list using indexing, slicing, or unpacking."
      ]
    },
    {
      "cell_type": "code",
      "execution_count": 21,
      "metadata": {
        "colab": {
          "base_uri": "https://localhost:8080/",
          "height": 0
        },
        "id": "h6y4k8nI-wR0",
        "outputId": "72d4dbed-19e7-4bc6-d18a-4605035b9e6e"
      },
      "outputs": [
        {
          "output_type": "execute_result",
          "data": {
            "text/plain": [
              "list"
            ]
          },
          "metadata": {},
          "execution_count": 21
        }
      ],
      "source": [
        "# Construct a list of the distances\n",
        "ds = [d_ab, d_bc, d_cd]\n",
        "type(ds)"
      ]
    },
    {
      "cell_type": "markdown",
      "metadata": {
        "id": "O5SyocFC-wR1"
      },
      "source": [
        "Here, we can easily change and element of the list. Just to show you some other ways to index a list, let's change the last element of the list."
      ]
    },
    {
      "cell_type": "code",
      "execution_count": 22,
      "metadata": {
        "colab": {
          "base_uri": "https://localhost:8080/",
          "height": 0
        },
        "id": "1sHQX8IZ-wR1",
        "outputId": "a186f1f8-3e4b-482c-aab7-ff9b28d5b389"
      },
      "outputs": [
        {
          "output_type": "stream",
          "name": "stdout",
          "text": [
            "The modified list of distances is [6, 3.0, 10.0]\n"
          ]
        }
      ],
      "source": [
        "# Create the new distance\n",
        "new_d = 10.0 # m\n",
        "\n",
        "# Modify the last element of ds\n",
        "ds[-1] = new_d\n",
        "print(f'The modified list of distances is {ds}')"
      ]
    },
    {
      "cell_type": "markdown",
      "metadata": {
        "id": "rjyr-_7Z-wR1"
      },
      "source": [
        "The last basic data structure we will review is the dictionary. Dictionaries are unordered collections of key-value pairs. You can access the value of a key using indexing. Let's create a dictionary of the distances and applied loads on the beam. We create a dictionary using `{}` and separate the key-value pairs with a `:`. So the strings in the dictionary are the keys and the values are the numbers."
      ]
    },
    {
      "cell_type": "code",
      "execution_count": 23,
      "metadata": {
        "id": "Z5aVBwQB-wSM"
      },
      "outputs": [],
      "source": [
        "# Create a dictionary of the beam properties\n",
        "beam = {'d_ab': 6.0, 'd_bc': 3.0, 'd_cd': 6.0, 'F_b': 10.0, 'M_c': 30.0}"
      ]
    },
    {
      "cell_type": "markdown",
      "metadata": {
        "id": "S9ZcxJJ4-wSN"
      },
      "source": [
        "We can access a value in the dictionary using the key."
      ]
    },
    {
      "cell_type": "code",
      "execution_count": 24,
      "metadata": {
        "colab": {
          "base_uri": "https://localhost:8080/",
          "height": 0
        },
        "id": "BBlQEQcW-wSO",
        "outputId": "c7dc1a04-53d4-4421-aabe-599d22b94a36"
      },
      "outputs": [
        {
          "output_type": "stream",
          "name": "stdout",
          "text": [
            "The applied force at point B is 10.0 kN\n"
          ]
        }
      ],
      "source": [
        "# Access the value of the applied force at point B\n",
        "F_b = beam['F_b']\n",
        "print(f'The applied force at point B is {F_b} kN')"
      ]
    },
    {
      "cell_type": "markdown",
      "metadata": {
        "id": "fa3eClZq-wSO"
      },
      "source": [
        "These structures are very useful for organizing data and can be nested inside each other to create more complex data structures. Let's create a dictionary with a tuple of the distances and a list of the applied loads, and a dictionary of the reaction forces."
      ]
    },
    {
      "cell_type": "code",
      "execution_count": 25,
      "metadata": {
        "colab": {
          "base_uri": "https://localhost:8080/",
          "height": 0
        },
        "id": "8uo3vEXH-wSO",
        "outputId": "27eedb4b-e774-4f27-8afd-1a674d0074e0"
      },
      "outputs": [
        {
          "output_type": "stream",
          "name": "stdout",
          "text": [
            "The reaction force at point A is 8.0 kN\n"
          ]
        }
      ],
      "source": [
        "# Create a nested dictionary of the beam properties\n",
        "beam = {'distances': ds, 'applied': [F_b, M_c], 'reactions': {'A_y': A_y, 'B_y': B_y}}\n",
        "\n",
        "# Access the value of the reaction force at point A\n",
        "A_y = beam['reactions']['A_y']\n",
        "print(f'The reaction force at point A is {A_y} kN')"
      ]
    },
    {
      "cell_type": "markdown",
      "metadata": {
        "id": "rYKawUox-wSP"
      },
      "source": [
        "I want you to create a nested dictionary with the courses that you are taking this semester. This should include the course name, the instructor's name, and how much you are liking it on a scale of 1 to 10. Then I want you to extract the course numbers and print the sum."
      ]
    },
    {
      "cell_type": "code",
      "execution_count": 34,
      "metadata": {
        "colab": {
          "base_uri": "https://localhost:8080/",
          "height": 0
        },
        "id": "N1a09piL-wSP",
        "outputId": "5574b749-7b0d-4b7f-b38d-af9968a7f09d"
      },
      "outputs": [
        {
          "output_type": "stream",
          "name": "stdout",
          "text": [
            "Sum of course numbers: 112600\n"
          ]
        }
      ],
      "source": [
        "courses = {\n",
        "    'ITAL 20100': {\n",
        "        'course_name': 'Italian III',\n",
        "        'instructor_name': 'Brett Bogart',\n",
        "        'enjoyableness': 7\n",
        "    },\n",
        "    'ME 27000': {\n",
        "        'course_name': 'Basic Mechanics I',\n",
        "        'instructor_name': 'Shirley Dyke',\n",
        "        'enjoyableness': 8\n",
        "    },\n",
        "    'BAND 11300': {\n",
        "        'course_name': 'Purdue Jazz Band',\n",
        "        'instructor_name': 'Bethany Robinson',\n",
        "        'enjoyableness': 9\n",
        "    },\n",
        "    'CS 15900': {\n",
        "        'course_name': 'C Programming',\n",
        "        'instructor_name': 'Xiaojin Lou',\n",
        "        'enjoyableness': 6\n",
        "    },\n",
        "    \"MA 26200\": {\n",
        "        'course_name': 'Lin Alg Diff Equats',\n",
        "        'instructor_name': 'Ying Chen',\n",
        "        'enjoyableness': 7\n",
        "    },\n",
        "    'EPCS 12100': {\n",
        "        'course_name': 'First Yr EPICS',\n",
        "        'instructor_name': 'Haley Culter',\n",
        "        'enjoyableness': '5'\n",
        "    }\n",
        "}\n",
        "\n",
        "total_num = 0\n",
        "\n",
        "for course in courses:\n",
        "  total_num += int(course[-5:] )\n",
        "#im honestly proud of this one tbh\n",
        "\n",
        "print(f\"Sum of course numbers: {total_num}\")"
      ]
    },
    {
      "cell_type": "markdown",
      "metadata": {
        "id": "hJZejl3J-wSP"
      },
      "source": [
        "### Question 3 - Control Structures\n",
        "\n",
        "For loops, conditional statements, and functions are the basic control structures in Python. Let's start with for loops. For loops are used to iterate over a sequence of elements. You can use a for loop to iterate over a list, tuple, or dictionary.\n",
        "\n",
        "Let's iterate over the distances tuple and convert it to different units."
      ]
    },
    {
      "cell_type": "code",
      "execution_count": 33,
      "metadata": {
        "colab": {
          "base_uri": "https://localhost:8080/",
          "height": 0
        },
        "id": "XT42mvYO-wSP",
        "outputId": "0fb5ac79-0b89-48b6-ae2c-b482d505bc16"
      },
      "outputs": [
        {
          "output_type": "stream",
          "name": "stdout",
          "text": [
            "The distances in cm are [600, 300.0, 1000.0]\n"
          ]
        }
      ],
      "source": [
        "# Initalize a list to store the distances in cm\n",
        "ds_cm = []\n",
        "\n",
        "# Iterate over each distance in the list\n",
        "for d in ds:\n",
        "    ds_cm.append(d * 100)\n",
        "\n",
        "print(f'The distances in cm are {ds_cm}')"
      ]
    },
    {
      "cell_type": "markdown",
      "metadata": {
        "id": "yfwfN70L-wSQ"
      },
      "source": [
        "Python has in-line for loops called list comprehensions. These are a more concise way to write for loops. Let's convert the distances tuple to a list using a list comprehension. Writing code like this is more \"Pythonic\" and is generally preferred."
      ]
    },
    {
      "cell_type": "code",
      "execution_count": 35,
      "metadata": {
        "id": "qprgih8c-wSQ"
      },
      "outputs": [],
      "source": [
        "# Create a list comprehension to convert the distances to cm\n",
        "ds_cm = [d * 100 for d in ds]"
      ]
    },
    {
      "cell_type": "markdown",
      "metadata": {
        "id": "ofvmXGso-wSQ"
      },
      "source": [
        "Let's integrate loops with conditional statements. Conditional statements are used to execute different blocks of code based on the truth value of a condition. The basic conditional statements in Python are `if`, `elif`, and `else`."
      ]
    },
    {
      "cell_type": "code",
      "execution_count": 36,
      "metadata": {
        "colab": {
          "base_uri": "https://localhost:8080/",
          "height": 0
        },
        "id": "dUQih4w5-wSR",
        "outputId": "69b864b7-53c0-458a-d6f0-d25f88cf795e"
      },
      "outputs": [
        {
          "output_type": "stream",
          "name": "stdout",
          "text": [
            "The distances are [6, 3.0, 10.0]\n",
            "The applied forces are [10.0, 30.0]\n",
            "The reaction forces are {'A_y': 8.0, 'B_y': 2.0}\n"
          ]
        }
      ],
      "source": [
        "# Loop through applied and reaction forces\n",
        "for key, value in beam.items():\n",
        "    if key == 'applied':\n",
        "        print(f'The applied forces are {value}')\n",
        "    elif key == 'reactions':\n",
        "        print(f'The reaction forces are {value}')\n",
        "    else:\n",
        "        print(f'The distances are {value}')"
      ]
    },
    {
      "cell_type": "markdown",
      "metadata": {
        "id": "79HfiJPv-wSR"
      },
      "source": [
        "I want you to use loops and conditional statements to convert the forces from kN to N, reassign the values to the dictionary, and print the dictionary."
      ]
    },
    {
      "cell_type": "code",
      "execution_count": 44,
      "metadata": {
        "colab": {
          "base_uri": "https://localhost:8080/",
          "height": 0
        },
        "id": "HMgT1X7X-wSS",
        "outputId": "3eae1bf7-41a0-4b19-cb52-82f75fa2729e"
      },
      "outputs": [
        {
          "output_type": "stream",
          "name": "stdout",
          "text": [
            "The distances are [6, 3.0, 10.0]\n",
            "The applied forces are [0.01, 0.03]\n",
            "The reaction forces are {'A_y': 0.008, 'B_y': 0.002}\n"
          ]
        }
      ],
      "source": [
        "# Loop through applied and reaction forces\n",
        "for key, value in beam.items():\n",
        "    if key == 'applied':\n",
        "        value = [force / 1000 for force in value]\n",
        "        print(f'The applied forces are {value}')\n",
        "    elif key == 'reactions':\n",
        "        value = {key: force / 1000 for key, force in value.items()} #honestly proud of this one too\n",
        "        print(f'The reaction forces are {value}')\n",
        "    else:\n",
        "        print(f'The distances are {value}')"
      ]
    },
    {
      "cell_type": "markdown",
      "metadata": {
        "id": "1_O1y6B9-wSS"
      },
      "source": [
        "### Question 4 - Functions\n",
        "\n",
        "In order to calculate the shear force and bending moment at different points along the beam, we will need to write functions to perform these calculations. Functions are reusable blocks of code that perform a specific task. They can take arguments and return values.\n",
        "\n",
        "The shear force at point B is a trivial calculation. The sum of the forces in the y-direction must be zero.\n",
        "\n",
        "$$\n",
        "\\sum F_y = 0\n",
        "$$\n",
        "\n",
        "$$\n",
        "\\sum F_y = A_y - V_{AB}\n",
        "$$\n",
        "\n",
        "Where $V_{AB}$ is the shear force at point B. Let's solve for $V_{AB}$."
      ]
    },
    {
      "cell_type": "code",
      "execution_count": 45,
      "metadata": {
        "colab": {
          "base_uri": "https://localhost:8080/",
          "height": 0
        },
        "id": "zcTVRtwB-wST",
        "outputId": "e73083bf-81ca-405c-a97c-b4f80867c13f"
      },
      "outputs": [
        {
          "output_type": "stream",
          "name": "stdout",
          "text": [
            "The shear force at point B is 8.0 kN\n"
          ]
        }
      ],
      "source": [
        "def calc_V_ab(A_y):\n",
        "    \"\"\"\n",
        "    Calculate the shear force at point B.\n",
        "\n",
        "    Parameters:\n",
        "    A_y : float\n",
        "        The reaction force at point A in kN.\n",
        "\n",
        "    Returns:\n",
        "    V_ab : float\n",
        "        The shear forcein kN.\n",
        "    \"\"\"\n",
        "    V_ab = A_y\n",
        "    return V_ab\n",
        "\n",
        "V_b = calc_V_ab(A_y)\n",
        "print(f'The shear force at point B is {V_b} kN')"
      ]
    },
    {
      "cell_type": "markdown",
      "metadata": {
        "id": "DIkdj4d3-wST"
      },
      "source": [
        "The function begins with the `def` keyword, followed by the function name and the arguments in parentheses. Following is what is called a docstring, which is a string that describes the purpose of the function. It is best practice to include a docstring in your functions, so that others can understand what the function does.\n",
        "The function body is indented. The function returns a value using the `return` keyword.\n",
        "\n",
        "Let's do it again for the shear force at point C."
      ]
    },
    {
      "cell_type": "code",
      "execution_count": 46,
      "metadata": {
        "colab": {
          "base_uri": "https://localhost:8080/",
          "height": 0
        },
        "id": "4qi48rsW-wSW",
        "outputId": "159b25b8-93b6-4c3e-fa3b-b78c23df1078"
      },
      "outputs": [
        {
          "output_type": "stream",
          "name": "stdout",
          "text": [
            "The shear force at point C is -2.0 kN\n"
          ]
        }
      ],
      "source": [
        "def calc_V_bc(F_b, A_y):\n",
        "    \"\"\"\n",
        "    Calculate the shear force at point C.\n",
        "\n",
        "    Parameters:\n",
        "    F_b : float\n",
        "        The applied force at point B in kN.\n",
        "    A_y : float\n",
        "        The reaction force at point A in kN.\n",
        "\n",
        "    Returns:\n",
        "    V_bc : float\n",
        "        The shear force in kN.\n",
        "    \"\"\"\n",
        "    V_bc = A_y - F_b\n",
        "    return V_bc\n",
        "\n",
        "V_c = calc_V_bc(F_b, A_y)\n",
        "print(f'The shear force at point C is {V_c} kN')"
      ]
    },
    {
      "cell_type": "markdown",
      "metadata": {
        "id": "oz-pT8um-wSX"
      },
      "source": [
        "I want you to write functions to calculate the bending moment in the rest of the beam."
      ]
    },
    {
      "cell_type": "code",
      "execution_count": 75,
      "metadata": {
        "id": "3AHkQMmT-wSY"
      },
      "outputs": [],
      "source": [
        "def calc_bending_moment(distance):\n",
        "\n",
        "  # moment at C is M_c = 30 kNm (at x = 9)\n",
        "  # moment from x = 0 to x = 9 (point C) is M(x) = 8x\n",
        "  # moment from x = 9 to x = 15 (end) is M(x) = 48-2x\n",
        "\n",
        "  if 0 <= distance <= 6:\n",
        "    return 8 * distance\n",
        "  elif 6 <= distance <= 9:\n",
        "    return 60 - 2 * distance\n",
        "  elif 9 < distance <= 15:\n",
        "    return 48 - 2 * distance\n",
        "  else:\n",
        "    return 'not a valid distance.'"
      ]
    },
    {
      "cell_type": "markdown",
      "metadata": {
        "id": "mWWpgsjH-wSY"
      },
      "source": [
        "### Question 5 - Plotting shear force and bending moment diagrams\n",
        "\n",
        "Great! Now we can put it all together to plot the shear force and bending moment diagrams. We will use the `matplotlib` library to plot the diagrams and `numpy` to help assist with our numerical computations. I have imported the libaries already, but when you are working on your own, you will need to import them.\n",
        "\n",
        "We want to plot at arbitrary points along the beam, so we will need to create an array of x-values. We can use the `np.linspace()` function to create an array of evenly spaced values along the length of the beam"
      ]
    },
    {
      "cell_type": "code",
      "execution_count": 55,
      "metadata": {
        "id": "1ba77Nsj-wSY"
      },
      "outputs": [],
      "source": [
        "x = np.linspace(0, L, 100)"
      ]
    },
    {
      "cell_type": "markdown",
      "metadata": {
        "id": "5hVO4zre-wSY"
      },
      "source": [
        "I am going to create the shear force diagram for you. First let's initalize our shear force array."
      ]
    },
    {
      "cell_type": "code",
      "execution_count": 59,
      "metadata": {
        "id": "5MQIiM5H-wSZ"
      },
      "outputs": [],
      "source": [
        "shear = np.zeros_like(x)"
      ]
    },
    {
      "cell_type": "markdown",
      "metadata": {
        "id": "rCq3wZTe-wSZ"
      },
      "source": [
        "Now we will loop through the x-values and calculate the shear force at each point. We will use the conditionals to determine which function to use at each segment."
      ]
    },
    {
      "cell_type": "code",
      "execution_count": 57,
      "metadata": {
        "id": "A1m5vxL8-wSZ"
      },
      "outputs": [],
      "source": [
        "for i, xi in enumerate(x):\n",
        "    if xi <= d_ab:\n",
        "        shear[i] = calc_V_ab(A_y)\n",
        "    else:\n",
        "        shear[i] = calc_V_bc(F_b, A_y)"
      ]
    },
    {
      "cell_type": "markdown",
      "metadata": {
        "id": "k8Xx_FhO-wSa"
      },
      "source": [
        "Let's plot the shear force diagram. Always title your plot and label your axes with units. A lot of the rest of plotting is just formatting the plot to make it look nice."
      ]
    },
    {
      "cell_type": "code",
      "execution_count": 58,
      "metadata": {
        "colab": {
          "base_uri": "https://localhost:8080/",
          "height": 453
        },
        "id": "ZRZta5st-wSa",
        "outputId": "c748eaaa-0241-4996-ff38-9b4f488f3761"
      },
      "outputs": [
        {
          "output_type": "display_data",
          "data": {
            "text/plain": [
              "<Figure size 640x480 with 1 Axes>"
            ],
            "image/svg+xml": "<?xml version=\"1.0\" encoding=\"utf-8\" standalone=\"no\"?>\n<!DOCTYPE svg PUBLIC \"-//W3C//DTD SVG 1.1//EN\"\n  \"http://www.w3.org/Graphics/SVG/1.1/DTD/svg11.dtd\">\n<svg xmlns:xlink=\"http://www.w3.org/1999/xlink\" width=\"406.084125pt\" height=\"323.91425pt\" viewBox=\"0 0 406.084125 323.91425\" xmlns=\"http://www.w3.org/2000/svg\" version=\"1.1\">\n <metadata>\n  <rdf:RDF xmlns:dc=\"http://purl.org/dc/elements/1.1/\" xmlns:cc=\"http://creativecommons.org/ns#\" xmlns:rdf=\"http://www.w3.org/1999/02/22-rdf-syntax-ns#\">\n   <cc:Work>\n    <dc:type rdf:resource=\"http://purl.org/dc/dcmitype/StillImage\"/>\n    <dc:date>2025-04-13T17:21:54.000565</dc:date>\n    <dc:format>image/svg+xml</dc:format>\n    <dc:creator>\n     <cc:Agent>\n      <dc:title>Matplotlib v3.10.0, https://matplotlib.org/</dc:title>\n     </cc:Agent>\n    </dc:creator>\n   </cc:Work>\n  </rdf:RDF>\n </metadata>\n <defs>\n  <style type=\"text/css\">*{stroke-linejoin: round; stroke-linecap: butt}</style>\n </defs>\n <g id=\"figure_1\">\n  <g id=\"patch_1\">\n   <path d=\"M -0 323.91425 \nL 406.084125 323.91425 \nL 406.084125 0 \nL -0 0 \nz\n\" style=\"fill: #ffffff\"/>\n  </g>\n  <g id=\"axes_1\">\n   <g id=\"patch_2\">\n    <path d=\"M 41.764125 286.6065 \nL 398.884125 286.6065 \nL 398.884125 20.4945 \nL 41.764125 20.4945 \nz\n\" style=\"fill: #ffffff\"/>\n   </g>\n   <g id=\"matplotlib.axis_1\">\n    <g id=\"xtick_1\">\n     <g id=\"line2d_1\">\n      <path d=\"M 57.996852 286.6065 \nL 57.996852 20.4945 \n\" clip-path=\"url(#p9a02f945bf)\" style=\"fill: none; stroke: #cccccc; stroke-width: 0.8; stroke-linecap: round\"/>\n     </g>\n     <g id=\"line2d_2\">\n      <defs>\n       <path id=\"m5e8d588965\" d=\"M 0 0 \nL 0 4.8 \n\" style=\"stroke: #262626\"/>\n      </defs>\n      <g>\n       <use xlink:href=\"#m5e8d588965\" x=\"57.996852\" y=\"286.6065\" style=\"fill: #262626; stroke: #262626\"/>\n      </g>\n     </g>\n     <g id=\"text_1\">\n      <!-- 0 -->\n      <g style=\"fill: #262626\" transform=\"translate(55.197352 301.593125) scale(0.088 -0.088)\">\n       <defs>\n        <path id=\"DejaVuSans-30\" d=\"M 2034 4250 \nQ 1547 4250 1301 3770 \nQ 1056 3291 1056 2328 \nQ 1056 1369 1301 889 \nQ 1547 409 2034 409 \nQ 2525 409 2770 889 \nQ 3016 1369 3016 2328 \nQ 3016 3291 2770 3770 \nQ 2525 4250 2034 4250 \nz\nM 2034 4750 \nQ 2819 4750 3233 4129 \nQ 3647 3509 3647 2328 \nQ 3647 1150 3233 529 \nQ 2819 -91 2034 -91 \nQ 1250 -91 836 529 \nQ 422 1150 422 2328 \nQ 422 3509 836 4129 \nQ 1250 4750 2034 4750 \nz\n\" transform=\"scale(0.015625)\"/>\n       </defs>\n       <use xlink:href=\"#DejaVuSans-30\"/>\n      </g>\n     </g>\n    </g>\n    <g id=\"xtick_2\">\n     <g id=\"line2d_3\">\n      <path d=\"M 101.284125 286.6065 \nL 101.284125 20.4945 \n\" clip-path=\"url(#p9a02f945bf)\" style=\"fill: none; stroke: #cccccc; stroke-width: 0.8; stroke-linecap: round\"/>\n     </g>\n     <g id=\"line2d_4\">\n      <g>\n       <use xlink:href=\"#m5e8d588965\" x=\"101.284125\" y=\"286.6065\" style=\"fill: #262626; stroke: #262626\"/>\n      </g>\n     </g>\n     <g id=\"text_2\">\n      <!-- 2 -->\n      <g style=\"fill: #262626\" transform=\"translate(98.484625 301.593125) scale(0.088 -0.088)\">\n       <defs>\n        <path id=\"DejaVuSans-32\" d=\"M 1228 531 \nL 3431 531 \nL 3431 0 \nL 469 0 \nL 469 531 \nQ 828 903 1448 1529 \nQ 2069 2156 2228 2338 \nQ 2531 2678 2651 2914 \nQ 2772 3150 2772 3378 \nQ 2772 3750 2511 3984 \nQ 2250 4219 1831 4219 \nQ 1534 4219 1204 4116 \nQ 875 4013 500 3803 \nL 500 4441 \nQ 881 4594 1212 4672 \nQ 1544 4750 1819 4750 \nQ 2544 4750 2975 4387 \nQ 3406 4025 3406 3419 \nQ 3406 3131 3298 2873 \nQ 3191 2616 2906 2266 \nQ 2828 2175 2409 1742 \nQ 1991 1309 1228 531 \nz\n\" transform=\"scale(0.015625)\"/>\n       </defs>\n       <use xlink:href=\"#DejaVuSans-32\"/>\n      </g>\n     </g>\n    </g>\n    <g id=\"xtick_3\">\n     <g id=\"line2d_5\">\n      <path d=\"M 144.571398 286.6065 \nL 144.571398 20.4945 \n\" clip-path=\"url(#p9a02f945bf)\" style=\"fill: none; stroke: #cccccc; stroke-width: 0.8; stroke-linecap: round\"/>\n     </g>\n     <g id=\"line2d_6\">\n      <g>\n       <use xlink:href=\"#m5e8d588965\" x=\"144.571398\" y=\"286.6065\" style=\"fill: #262626; stroke: #262626\"/>\n      </g>\n     </g>\n     <g id=\"text_3\">\n      <!-- 4 -->\n      <g style=\"fill: #262626\" transform=\"translate(141.771898 301.593125) scale(0.088 -0.088)\">\n       <defs>\n        <path id=\"DejaVuSans-34\" d=\"M 2419 4116 \nL 825 1625 \nL 2419 1625 \nL 2419 4116 \nz\nM 2253 4666 \nL 3047 4666 \nL 3047 1625 \nL 3713 1625 \nL 3713 1100 \nL 3047 1100 \nL 3047 0 \nL 2419 0 \nL 2419 1100 \nL 313 1100 \nL 313 1709 \nL 2253 4666 \nz\n\" transform=\"scale(0.015625)\"/>\n       </defs>\n       <use xlink:href=\"#DejaVuSans-34\"/>\n      </g>\n     </g>\n    </g>\n    <g id=\"xtick_4\">\n     <g id=\"line2d_7\">\n      <path d=\"M 187.85867 286.6065 \nL 187.85867 20.4945 \n\" clip-path=\"url(#p9a02f945bf)\" style=\"fill: none; stroke: #cccccc; stroke-width: 0.8; stroke-linecap: round\"/>\n     </g>\n     <g id=\"line2d_8\">\n      <g>\n       <use xlink:href=\"#m5e8d588965\" x=\"187.85867\" y=\"286.6065\" style=\"fill: #262626; stroke: #262626\"/>\n      </g>\n     </g>\n     <g id=\"text_4\">\n      <!-- 6 -->\n      <g style=\"fill: #262626\" transform=\"translate(185.05917 301.593125) scale(0.088 -0.088)\">\n       <defs>\n        <path id=\"DejaVuSans-36\" d=\"M 2113 2584 \nQ 1688 2584 1439 2293 \nQ 1191 2003 1191 1497 \nQ 1191 994 1439 701 \nQ 1688 409 2113 409 \nQ 2538 409 2786 701 \nQ 3034 994 3034 1497 \nQ 3034 2003 2786 2293 \nQ 2538 2584 2113 2584 \nz\nM 3366 4563 \nL 3366 3988 \nQ 3128 4100 2886 4159 \nQ 2644 4219 2406 4219 \nQ 1781 4219 1451 3797 \nQ 1122 3375 1075 2522 \nQ 1259 2794 1537 2939 \nQ 1816 3084 2150 3084 \nQ 2853 3084 3261 2657 \nQ 3669 2231 3669 1497 \nQ 3669 778 3244 343 \nQ 2819 -91 2113 -91 \nQ 1303 -91 875 529 \nQ 447 1150 447 2328 \nQ 447 3434 972 4092 \nQ 1497 4750 2381 4750 \nQ 2619 4750 2861 4703 \nQ 3103 4656 3366 4563 \nz\n\" transform=\"scale(0.015625)\"/>\n       </defs>\n       <use xlink:href=\"#DejaVuSans-36\"/>\n      </g>\n     </g>\n    </g>\n    <g id=\"xtick_5\">\n     <g id=\"line2d_9\">\n      <path d=\"M 231.145943 286.6065 \nL 231.145943 20.4945 \n\" clip-path=\"url(#p9a02f945bf)\" style=\"fill: none; stroke: #cccccc; stroke-width: 0.8; stroke-linecap: round\"/>\n     </g>\n     <g id=\"line2d_10\">\n      <g>\n       <use xlink:href=\"#m5e8d588965\" x=\"231.145943\" y=\"286.6065\" style=\"fill: #262626; stroke: #262626\"/>\n      </g>\n     </g>\n     <g id=\"text_5\">\n      <!-- 8 -->\n      <g style=\"fill: #262626\" transform=\"translate(228.346443 301.593125) scale(0.088 -0.088)\">\n       <defs>\n        <path id=\"DejaVuSans-38\" d=\"M 2034 2216 \nQ 1584 2216 1326 1975 \nQ 1069 1734 1069 1313 \nQ 1069 891 1326 650 \nQ 1584 409 2034 409 \nQ 2484 409 2743 651 \nQ 3003 894 3003 1313 \nQ 3003 1734 2745 1975 \nQ 2488 2216 2034 2216 \nz\nM 1403 2484 \nQ 997 2584 770 2862 \nQ 544 3141 544 3541 \nQ 544 4100 942 4425 \nQ 1341 4750 2034 4750 \nQ 2731 4750 3128 4425 \nQ 3525 4100 3525 3541 \nQ 3525 3141 3298 2862 \nQ 3072 2584 2669 2484 \nQ 3125 2378 3379 2068 \nQ 3634 1759 3634 1313 \nQ 3634 634 3220 271 \nQ 2806 -91 2034 -91 \nQ 1263 -91 848 271 \nQ 434 634 434 1313 \nQ 434 1759 690 2068 \nQ 947 2378 1403 2484 \nz\nM 1172 3481 \nQ 1172 3119 1398 2916 \nQ 1625 2713 2034 2713 \nQ 2441 2713 2670 2916 \nQ 2900 3119 2900 3481 \nQ 2900 3844 2670 4047 \nQ 2441 4250 2034 4250 \nQ 1625 4250 1398 4047 \nQ 1172 3844 1172 3481 \nz\n\" transform=\"scale(0.015625)\"/>\n       </defs>\n       <use xlink:href=\"#DejaVuSans-38\"/>\n      </g>\n     </g>\n    </g>\n    <g id=\"xtick_6\">\n     <g id=\"line2d_11\">\n      <path d=\"M 274.433216 286.6065 \nL 274.433216 20.4945 \n\" clip-path=\"url(#p9a02f945bf)\" style=\"fill: none; stroke: #cccccc; stroke-width: 0.8; stroke-linecap: round\"/>\n     </g>\n     <g id=\"line2d_12\">\n      <g>\n       <use xlink:href=\"#m5e8d588965\" x=\"274.433216\" y=\"286.6065\" style=\"fill: #262626; stroke: #262626\"/>\n      </g>\n     </g>\n     <g id=\"text_6\">\n      <!-- 10 -->\n      <g style=\"fill: #262626\" transform=\"translate(268.834216 301.593125) scale(0.088 -0.088)\">\n       <defs>\n        <path id=\"DejaVuSans-31\" d=\"M 794 531 \nL 1825 531 \nL 1825 4091 \nL 703 3866 \nL 703 4441 \nL 1819 4666 \nL 2450 4666 \nL 2450 531 \nL 3481 531 \nL 3481 0 \nL 794 0 \nL 794 531 \nz\n\" transform=\"scale(0.015625)\"/>\n       </defs>\n       <use xlink:href=\"#DejaVuSans-31\"/>\n       <use xlink:href=\"#DejaVuSans-30\" transform=\"translate(63.623047 0)\"/>\n      </g>\n     </g>\n    </g>\n    <g id=\"xtick_7\">\n     <g id=\"line2d_13\">\n      <path d=\"M 317.720489 286.6065 \nL 317.720489 20.4945 \n\" clip-path=\"url(#p9a02f945bf)\" style=\"fill: none; stroke: #cccccc; stroke-width: 0.8; stroke-linecap: round\"/>\n     </g>\n     <g id=\"line2d_14\">\n      <g>\n       <use xlink:href=\"#m5e8d588965\" x=\"317.720489\" y=\"286.6065\" style=\"fill: #262626; stroke: #262626\"/>\n      </g>\n     </g>\n     <g id=\"text_7\">\n      <!-- 12 -->\n      <g style=\"fill: #262626\" transform=\"translate(312.121489 301.593125) scale(0.088 -0.088)\">\n       <use xlink:href=\"#DejaVuSans-31\"/>\n       <use xlink:href=\"#DejaVuSans-32\" transform=\"translate(63.623047 0)\"/>\n      </g>\n     </g>\n    </g>\n    <g id=\"xtick_8\">\n     <g id=\"line2d_15\">\n      <path d=\"M 361.007761 286.6065 \nL 361.007761 20.4945 \n\" clip-path=\"url(#p9a02f945bf)\" style=\"fill: none; stroke: #cccccc; stroke-width: 0.8; stroke-linecap: round\"/>\n     </g>\n     <g id=\"line2d_16\">\n      <g>\n       <use xlink:href=\"#m5e8d588965\" x=\"361.007761\" y=\"286.6065\" style=\"fill: #262626; stroke: #262626\"/>\n      </g>\n     </g>\n     <g id=\"text_8\">\n      <!-- 14 -->\n      <g style=\"fill: #262626\" transform=\"translate(355.408761 301.593125) scale(0.088 -0.088)\">\n       <use xlink:href=\"#DejaVuSans-31\"/>\n       <use xlink:href=\"#DejaVuSans-34\" transform=\"translate(63.623047 0)\"/>\n      </g>\n     </g>\n    </g>\n    <g id=\"text_9\">\n     <!-- Distance (m) -->\n     <g style=\"fill: #262626\" transform=\"translate(189.389625 314.71775) scale(0.096 -0.096)\">\n      <defs>\n       <path id=\"DejaVuSans-44\" d=\"M 1259 4147 \nL 1259 519 \nL 2022 519 \nQ 2988 519 3436 956 \nQ 3884 1394 3884 2338 \nQ 3884 3275 3436 3711 \nQ 2988 4147 2022 4147 \nL 1259 4147 \nz\nM 628 4666 \nL 1925 4666 \nQ 3281 4666 3915 4102 \nQ 4550 3538 4550 2338 \nQ 4550 1131 3912 565 \nQ 3275 0 1925 0 \nL 628 0 \nL 628 4666 \nz\n\" transform=\"scale(0.015625)\"/>\n       <path id=\"DejaVuSans-69\" d=\"M 603 3500 \nL 1178 3500 \nL 1178 0 \nL 603 0 \nL 603 3500 \nz\nM 603 4863 \nL 1178 4863 \nL 1178 4134 \nL 603 4134 \nL 603 4863 \nz\n\" transform=\"scale(0.015625)\"/>\n       <path id=\"DejaVuSans-73\" d=\"M 2834 3397 \nL 2834 2853 \nQ 2591 2978 2328 3040 \nQ 2066 3103 1784 3103 \nQ 1356 3103 1142 2972 \nQ 928 2841 928 2578 \nQ 928 2378 1081 2264 \nQ 1234 2150 1697 2047 \nL 1894 2003 \nQ 2506 1872 2764 1633 \nQ 3022 1394 3022 966 \nQ 3022 478 2636 193 \nQ 2250 -91 1575 -91 \nQ 1294 -91 989 -36 \nQ 684 19 347 128 \nL 347 722 \nQ 666 556 975 473 \nQ 1284 391 1588 391 \nQ 1994 391 2212 530 \nQ 2431 669 2431 922 \nQ 2431 1156 2273 1281 \nQ 2116 1406 1581 1522 \nL 1381 1569 \nQ 847 1681 609 1914 \nQ 372 2147 372 2553 \nQ 372 3047 722 3315 \nQ 1072 3584 1716 3584 \nQ 2034 3584 2315 3537 \nQ 2597 3491 2834 3397 \nz\n\" transform=\"scale(0.015625)\"/>\n       <path id=\"DejaVuSans-74\" d=\"M 1172 4494 \nL 1172 3500 \nL 2356 3500 \nL 2356 3053 \nL 1172 3053 \nL 1172 1153 \nQ 1172 725 1289 603 \nQ 1406 481 1766 481 \nL 2356 481 \nL 2356 0 \nL 1766 0 \nQ 1100 0 847 248 \nQ 594 497 594 1153 \nL 594 3053 \nL 172 3053 \nL 172 3500 \nL 594 3500 \nL 594 4494 \nL 1172 4494 \nz\n\" transform=\"scale(0.015625)\"/>\n       <path id=\"DejaVuSans-61\" d=\"M 2194 1759 \nQ 1497 1759 1228 1600 \nQ 959 1441 959 1056 \nQ 959 750 1161 570 \nQ 1363 391 1709 391 \nQ 2188 391 2477 730 \nQ 2766 1069 2766 1631 \nL 2766 1759 \nL 2194 1759 \nz\nM 3341 1997 \nL 3341 0 \nL 2766 0 \nL 2766 531 \nQ 2569 213 2275 61 \nQ 1981 -91 1556 -91 \nQ 1019 -91 701 211 \nQ 384 513 384 1019 \nQ 384 1609 779 1909 \nQ 1175 2209 1959 2209 \nL 2766 2209 \nL 2766 2266 \nQ 2766 2663 2505 2880 \nQ 2244 3097 1772 3097 \nQ 1472 3097 1187 3025 \nQ 903 2953 641 2809 \nL 641 3341 \nQ 956 3463 1253 3523 \nQ 1550 3584 1831 3584 \nQ 2591 3584 2966 3190 \nQ 3341 2797 3341 1997 \nz\n\" transform=\"scale(0.015625)\"/>\n       <path id=\"DejaVuSans-6e\" d=\"M 3513 2113 \nL 3513 0 \nL 2938 0 \nL 2938 2094 \nQ 2938 2591 2744 2837 \nQ 2550 3084 2163 3084 \nQ 1697 3084 1428 2787 \nQ 1159 2491 1159 1978 \nL 1159 0 \nL 581 0 \nL 581 3500 \nL 1159 3500 \nL 1159 2956 \nQ 1366 3272 1645 3428 \nQ 1925 3584 2291 3584 \nQ 2894 3584 3203 3211 \nQ 3513 2838 3513 2113 \nz\n\" transform=\"scale(0.015625)\"/>\n       <path id=\"DejaVuSans-63\" d=\"M 3122 3366 \nL 3122 2828 \nQ 2878 2963 2633 3030 \nQ 2388 3097 2138 3097 \nQ 1578 3097 1268 2742 \nQ 959 2388 959 1747 \nQ 959 1106 1268 751 \nQ 1578 397 2138 397 \nQ 2388 397 2633 464 \nQ 2878 531 3122 666 \nL 3122 134 \nQ 2881 22 2623 -34 \nQ 2366 -91 2075 -91 \nQ 1284 -91 818 406 \nQ 353 903 353 1747 \nQ 353 2603 823 3093 \nQ 1294 3584 2113 3584 \nQ 2378 3584 2631 3529 \nQ 2884 3475 3122 3366 \nz\n\" transform=\"scale(0.015625)\"/>\n       <path id=\"DejaVuSans-65\" d=\"M 3597 1894 \nL 3597 1613 \nL 953 1613 \nQ 991 1019 1311 708 \nQ 1631 397 2203 397 \nQ 2534 397 2845 478 \nQ 3156 559 3463 722 \nL 3463 178 \nQ 3153 47 2828 -22 \nQ 2503 -91 2169 -91 \nQ 1331 -91 842 396 \nQ 353 884 353 1716 \nQ 353 2575 817 3079 \nQ 1281 3584 2069 3584 \nQ 2775 3584 3186 3129 \nQ 3597 2675 3597 1894 \nz\nM 3022 2063 \nQ 3016 2534 2758 2815 \nQ 2500 3097 2075 3097 \nQ 1594 3097 1305 2825 \nQ 1016 2553 972 2059 \nL 3022 2063 \nz\n\" transform=\"scale(0.015625)\"/>\n       <path id=\"DejaVuSans-20\" transform=\"scale(0.015625)\"/>\n       <path id=\"DejaVuSans-28\" d=\"M 1984 4856 \nQ 1566 4138 1362 3434 \nQ 1159 2731 1159 2009 \nQ 1159 1288 1364 580 \nQ 1569 -128 1984 -844 \nL 1484 -844 \nQ 1016 -109 783 600 \nQ 550 1309 550 2009 \nQ 550 2706 781 3412 \nQ 1013 4119 1484 4856 \nL 1984 4856 \nz\n\" transform=\"scale(0.015625)\"/>\n       <path id=\"DejaVuSans-6d\" d=\"M 3328 2828 \nQ 3544 3216 3844 3400 \nQ 4144 3584 4550 3584 \nQ 5097 3584 5394 3201 \nQ 5691 2819 5691 2113 \nL 5691 0 \nL 5113 0 \nL 5113 2094 \nQ 5113 2597 4934 2840 \nQ 4756 3084 4391 3084 \nQ 3944 3084 3684 2787 \nQ 3425 2491 3425 1978 \nL 3425 0 \nL 2847 0 \nL 2847 2094 \nQ 2847 2600 2669 2842 \nQ 2491 3084 2119 3084 \nQ 1678 3084 1418 2786 \nQ 1159 2488 1159 1978 \nL 1159 0 \nL 581 0 \nL 581 3500 \nL 1159 3500 \nL 1159 2956 \nQ 1356 3278 1631 3431 \nQ 1906 3584 2284 3584 \nQ 2666 3584 2933 3390 \nQ 3200 3197 3328 2828 \nz\n\" transform=\"scale(0.015625)\"/>\n       <path id=\"DejaVuSans-29\" d=\"M 513 4856 \nL 1013 4856 \nQ 1481 4119 1714 3412 \nQ 1947 2706 1947 2009 \nQ 1947 1309 1714 600 \nQ 1481 -109 1013 -844 \nL 513 -844 \nQ 928 -128 1133 580 \nQ 1338 1288 1338 2009 \nQ 1338 2731 1133 3434 \nQ 928 4138 513 4856 \nz\n\" transform=\"scale(0.015625)\"/>\n      </defs>\n      <use xlink:href=\"#DejaVuSans-44\"/>\n      <use xlink:href=\"#DejaVuSans-69\" transform=\"translate(77.001953 0)\"/>\n      <use xlink:href=\"#DejaVuSans-73\" transform=\"translate(104.785156 0)\"/>\n      <use xlink:href=\"#DejaVuSans-74\" transform=\"translate(156.884766 0)\"/>\n      <use xlink:href=\"#DejaVuSans-61\" transform=\"translate(196.09375 0)\"/>\n      <use xlink:href=\"#DejaVuSans-6e\" transform=\"translate(257.373047 0)\"/>\n      <use xlink:href=\"#DejaVuSans-63\" transform=\"translate(320.751953 0)\"/>\n      <use xlink:href=\"#DejaVuSans-65\" transform=\"translate(375.732422 0)\"/>\n      <use xlink:href=\"#DejaVuSans-20\" transform=\"translate(437.255859 0)\"/>\n      <use xlink:href=\"#DejaVuSans-28\" transform=\"translate(469.042969 0)\"/>\n      <use xlink:href=\"#DejaVuSans-6d\" transform=\"translate(508.056641 0)\"/>\n      <use xlink:href=\"#DejaVuSans-29\" transform=\"translate(605.46875 0)\"/>\n     </g>\n    </g>\n   </g>\n   <g id=\"matplotlib.axis_2\">\n    <g id=\"ytick_1\">\n     <g id=\"line2d_17\">\n      <path d=\"M 41.764125 274.5105 \nL 398.884125 274.5105 \n\" clip-path=\"url(#p9a02f945bf)\" style=\"fill: none; stroke: #cccccc; stroke-width: 0.8; stroke-linecap: round\"/>\n     </g>\n     <g id=\"line2d_18\">\n      <defs>\n       <path id=\"mf99f0fd5b6\" d=\"M 0 0 \nL -4.8 0 \n\" style=\"stroke: #262626\"/>\n      </defs>\n      <g>\n       <use xlink:href=\"#mf99f0fd5b6\" x=\"41.764125\" y=\"274.5105\" style=\"fill: #262626; stroke: #262626\"/>\n      </g>\n     </g>\n     <g id=\"text_10\">\n      <!-- −2 -->\n      <g style=\"fill: #262626\" transform=\"translate(20.491 277.853812) scale(0.088 -0.088)\">\n       <defs>\n        <path id=\"DejaVuSans-2212\" d=\"M 678 2272 \nL 4684 2272 \nL 4684 1741 \nL 678 1741 \nL 678 2272 \nz\n\" transform=\"scale(0.015625)\"/>\n       </defs>\n       <use xlink:href=\"#DejaVuSans-2212\"/>\n       <use xlink:href=\"#DejaVuSans-32\" transform=\"translate(83.789062 0)\"/>\n      </g>\n     </g>\n    </g>\n    <g id=\"ytick_2\">\n     <g id=\"line2d_19\">\n      <path d=\"M 41.764125 226.1265 \nL 398.884125 226.1265 \n\" clip-path=\"url(#p9a02f945bf)\" style=\"fill: none; stroke: #cccccc; stroke-width: 0.8; stroke-linecap: round\"/>\n     </g>\n     <g id=\"line2d_20\">\n      <g>\n       <use xlink:href=\"#mf99f0fd5b6\" x=\"41.764125\" y=\"226.1265\" style=\"fill: #262626; stroke: #262626\"/>\n      </g>\n     </g>\n     <g id=\"text_11\">\n      <!-- 0 -->\n      <g style=\"fill: #262626\" transform=\"translate(27.865125 229.469812) scale(0.088 -0.088)\">\n       <use xlink:href=\"#DejaVuSans-30\"/>\n      </g>\n     </g>\n    </g>\n    <g id=\"ytick_3\">\n     <g id=\"line2d_21\">\n      <path d=\"M 41.764125 177.7425 \nL 398.884125 177.7425 \n\" clip-path=\"url(#p9a02f945bf)\" style=\"fill: none; stroke: #cccccc; stroke-width: 0.8; stroke-linecap: round\"/>\n     </g>\n     <g id=\"line2d_22\">\n      <g>\n       <use xlink:href=\"#mf99f0fd5b6\" x=\"41.764125\" y=\"177.7425\" style=\"fill: #262626; stroke: #262626\"/>\n      </g>\n     </g>\n     <g id=\"text_12\">\n      <!-- 2 -->\n      <g style=\"fill: #262626\" transform=\"translate(27.865125 181.085812) scale(0.088 -0.088)\">\n       <use xlink:href=\"#DejaVuSans-32\"/>\n      </g>\n     </g>\n    </g>\n    <g id=\"ytick_4\">\n     <g id=\"line2d_23\">\n      <path d=\"M 41.764125 129.3585 \nL 398.884125 129.3585 \n\" clip-path=\"url(#p9a02f945bf)\" style=\"fill: none; stroke: #cccccc; stroke-width: 0.8; stroke-linecap: round\"/>\n     </g>\n     <g id=\"line2d_24\">\n      <g>\n       <use xlink:href=\"#mf99f0fd5b6\" x=\"41.764125\" y=\"129.3585\" style=\"fill: #262626; stroke: #262626\"/>\n      </g>\n     </g>\n     <g id=\"text_13\">\n      <!-- 4 -->\n      <g style=\"fill: #262626\" transform=\"translate(27.865125 132.701812) scale(0.088 -0.088)\">\n       <use xlink:href=\"#DejaVuSans-34\"/>\n      </g>\n     </g>\n    </g>\n    <g id=\"ytick_5\">\n     <g id=\"line2d_25\">\n      <path d=\"M 41.764125 80.9745 \nL 398.884125 80.9745 \n\" clip-path=\"url(#p9a02f945bf)\" style=\"fill: none; stroke: #cccccc; stroke-width: 0.8; stroke-linecap: round\"/>\n     </g>\n     <g id=\"line2d_26\">\n      <g>\n       <use xlink:href=\"#mf99f0fd5b6\" x=\"41.764125\" y=\"80.9745\" style=\"fill: #262626; stroke: #262626\"/>\n      </g>\n     </g>\n     <g id=\"text_14\">\n      <!-- 6 -->\n      <g style=\"fill: #262626\" transform=\"translate(27.865125 84.317812) scale(0.088 -0.088)\">\n       <use xlink:href=\"#DejaVuSans-36\"/>\n      </g>\n     </g>\n    </g>\n    <g id=\"ytick_6\">\n     <g id=\"line2d_27\">\n      <path d=\"M 41.764125 32.5905 \nL 398.884125 32.5905 \n\" clip-path=\"url(#p9a02f945bf)\" style=\"fill: none; stroke: #cccccc; stroke-width: 0.8; stroke-linecap: round\"/>\n     </g>\n     <g id=\"line2d_28\">\n      <g>\n       <use xlink:href=\"#mf99f0fd5b6\" x=\"41.764125\" y=\"32.5905\" style=\"fill: #262626; stroke: #262626\"/>\n      </g>\n     </g>\n     <g id=\"text_15\">\n      <!-- 8 -->\n      <g style=\"fill: #262626\" transform=\"translate(27.865125 35.933812) scale(0.088 -0.088)\">\n       <use xlink:href=\"#DejaVuSans-38\"/>\n      </g>\n     </g>\n    </g>\n    <g id=\"text_16\">\n     <!-- Shear Force (kN) -->\n     <g style=\"fill: #262626\" transform=\"translate(14.4945 193.65675) rotate(-90) scale(0.096 -0.096)\">\n      <defs>\n       <path id=\"DejaVuSans-53\" d=\"M 3425 4513 \nL 3425 3897 \nQ 3066 4069 2747 4153 \nQ 2428 4238 2131 4238 \nQ 1616 4238 1336 4038 \nQ 1056 3838 1056 3469 \nQ 1056 3159 1242 3001 \nQ 1428 2844 1947 2747 \nL 2328 2669 \nQ 3034 2534 3370 2195 \nQ 3706 1856 3706 1288 \nQ 3706 609 3251 259 \nQ 2797 -91 1919 -91 \nQ 1588 -91 1214 -16 \nQ 841 59 441 206 \nL 441 856 \nQ 825 641 1194 531 \nQ 1563 422 1919 422 \nQ 2459 422 2753 634 \nQ 3047 847 3047 1241 \nQ 3047 1584 2836 1778 \nQ 2625 1972 2144 2069 \nL 1759 2144 \nQ 1053 2284 737 2584 \nQ 422 2884 422 3419 \nQ 422 4038 858 4394 \nQ 1294 4750 2059 4750 \nQ 2388 4750 2728 4690 \nQ 3069 4631 3425 4513 \nz\n\" transform=\"scale(0.015625)\"/>\n       <path id=\"DejaVuSans-68\" d=\"M 3513 2113 \nL 3513 0 \nL 2938 0 \nL 2938 2094 \nQ 2938 2591 2744 2837 \nQ 2550 3084 2163 3084 \nQ 1697 3084 1428 2787 \nQ 1159 2491 1159 1978 \nL 1159 0 \nL 581 0 \nL 581 4863 \nL 1159 4863 \nL 1159 2956 \nQ 1366 3272 1645 3428 \nQ 1925 3584 2291 3584 \nQ 2894 3584 3203 3211 \nQ 3513 2838 3513 2113 \nz\n\" transform=\"scale(0.015625)\"/>\n       <path id=\"DejaVuSans-72\" d=\"M 2631 2963 \nQ 2534 3019 2420 3045 \nQ 2306 3072 2169 3072 \nQ 1681 3072 1420 2755 \nQ 1159 2438 1159 1844 \nL 1159 0 \nL 581 0 \nL 581 3500 \nL 1159 3500 \nL 1159 2956 \nQ 1341 3275 1631 3429 \nQ 1922 3584 2338 3584 \nQ 2397 3584 2469 3576 \nQ 2541 3569 2628 3553 \nL 2631 2963 \nz\n\" transform=\"scale(0.015625)\"/>\n       <path id=\"DejaVuSans-46\" d=\"M 628 4666 \nL 3309 4666 \nL 3309 4134 \nL 1259 4134 \nL 1259 2759 \nL 3109 2759 \nL 3109 2228 \nL 1259 2228 \nL 1259 0 \nL 628 0 \nL 628 4666 \nz\n\" transform=\"scale(0.015625)\"/>\n       <path id=\"DejaVuSans-6f\" d=\"M 1959 3097 \nQ 1497 3097 1228 2736 \nQ 959 2375 959 1747 \nQ 959 1119 1226 758 \nQ 1494 397 1959 397 \nQ 2419 397 2687 759 \nQ 2956 1122 2956 1747 \nQ 2956 2369 2687 2733 \nQ 2419 3097 1959 3097 \nz\nM 1959 3584 \nQ 2709 3584 3137 3096 \nQ 3566 2609 3566 1747 \nQ 3566 888 3137 398 \nQ 2709 -91 1959 -91 \nQ 1206 -91 779 398 \nQ 353 888 353 1747 \nQ 353 2609 779 3096 \nQ 1206 3584 1959 3584 \nz\n\" transform=\"scale(0.015625)\"/>\n       <path id=\"DejaVuSans-6b\" d=\"M 581 4863 \nL 1159 4863 \nL 1159 1991 \nL 2875 3500 \nL 3609 3500 \nL 1753 1863 \nL 3688 0 \nL 2938 0 \nL 1159 1709 \nL 1159 0 \nL 581 0 \nL 581 4863 \nz\n\" transform=\"scale(0.015625)\"/>\n       <path id=\"DejaVuSans-4e\" d=\"M 628 4666 \nL 1478 4666 \nL 3547 763 \nL 3547 4666 \nL 4159 4666 \nL 4159 0 \nL 3309 0 \nL 1241 3903 \nL 1241 0 \nL 628 0 \nL 628 4666 \nz\n\" transform=\"scale(0.015625)\"/>\n      </defs>\n      <use xlink:href=\"#DejaVuSans-53\"/>\n      <use xlink:href=\"#DejaVuSans-68\" transform=\"translate(63.476562 0)\"/>\n      <use xlink:href=\"#DejaVuSans-65\" transform=\"translate(126.855469 0)\"/>\n      <use xlink:href=\"#DejaVuSans-61\" transform=\"translate(188.378906 0)\"/>\n      <use xlink:href=\"#DejaVuSans-72\" transform=\"translate(249.658203 0)\"/>\n      <use xlink:href=\"#DejaVuSans-20\" transform=\"translate(290.771484 0)\"/>\n      <use xlink:href=\"#DejaVuSans-46\" transform=\"translate(322.558594 0)\"/>\n      <use xlink:href=\"#DejaVuSans-6f\" transform=\"translate(376.453125 0)\"/>\n      <use xlink:href=\"#DejaVuSans-72\" transform=\"translate(437.634766 0)\"/>\n      <use xlink:href=\"#DejaVuSans-63\" transform=\"translate(476.498047 0)\"/>\n      <use xlink:href=\"#DejaVuSans-65\" transform=\"translate(531.478516 0)\"/>\n      <use xlink:href=\"#DejaVuSans-20\" transform=\"translate(593.001953 0)\"/>\n      <use xlink:href=\"#DejaVuSans-28\" transform=\"translate(624.789062 0)\"/>\n      <use xlink:href=\"#DejaVuSans-6b\" transform=\"translate(663.802734 0)\"/>\n      <use xlink:href=\"#DejaVuSans-4e\" transform=\"translate(721.712891 0)\"/>\n      <use xlink:href=\"#DejaVuSans-29\" transform=\"translate(796.517578 0)\"/>\n     </g>\n    </g>\n   </g>\n   <g id=\"FillBetweenPolyCollection_1\">\n    <defs>\n     <path id=\"m71115a53ee\" d=\"M 57.996852 -97.78775 \nL 57.996852 -291.32375 \nL 61.276191 -291.32375 \nL 64.55553 -291.32375 \nL 67.834869 -291.32375 \nL 71.114208 -291.32375 \nL 74.393546 -291.32375 \nL 77.672885 -291.32375 \nL 80.952224 -291.32375 \nL 84.231563 -291.32375 \nL 87.510902 -291.32375 \nL 90.790241 -291.32375 \nL 94.06958 -291.32375 \nL 97.348918 -291.32375 \nL 100.628257 -291.32375 \nL 103.907596 -291.32375 \nL 107.186935 -291.32375 \nL 110.466274 -291.32375 \nL 113.745613 -291.32375 \nL 117.024951 -291.32375 \nL 120.30429 -291.32375 \nL 123.583629 -291.32375 \nL 126.862968 -291.32375 \nL 130.142307 -291.32375 \nL 133.421646 -291.32375 \nL 136.700985 -291.32375 \nL 139.980323 -291.32375 \nL 143.259662 -291.32375 \nL 146.539001 -291.32375 \nL 149.81834 -291.32375 \nL 153.097679 -291.32375 \nL 156.377018 -291.32375 \nL 159.656356 -291.32375 \nL 162.935695 -291.32375 \nL 166.215034 -291.32375 \nL 169.494373 -291.32375 \nL 172.773712 -291.32375 \nL 176.053051 -291.32375 \nL 179.332389 -291.32375 \nL 182.611728 -291.32375 \nL 185.891067 -291.32375 \nL 189.170406 -49.40375 \nL 192.449745 -49.40375 \nL 195.729084 -49.40375 \nL 199.008423 -49.40375 \nL 202.287761 -49.40375 \nL 205.5671 -49.40375 \nL 208.846439 -49.40375 \nL 212.125778 -49.40375 \nL 215.405117 -49.40375 \nL 218.684456 -49.40375 \nL 221.963794 -49.40375 \nL 225.243133 -49.40375 \nL 228.522472 -49.40375 \nL 231.801811 -49.40375 \nL 235.08115 -49.40375 \nL 238.360489 -49.40375 \nL 241.639827 -49.40375 \nL 244.919166 -49.40375 \nL 248.198505 -49.40375 \nL 251.477844 -49.40375 \nL 254.757183 -49.40375 \nL 258.036522 -49.40375 \nL 261.315861 -49.40375 \nL 264.595199 -49.40375 \nL 267.874538 -49.40375 \nL 271.153877 -49.40375 \nL 274.433216 -49.40375 \nL 277.712555 -49.40375 \nL 280.991894 -49.40375 \nL 284.271232 -49.40375 \nL 287.550571 -49.40375 \nL 290.82991 -49.40375 \nL 294.109249 -49.40375 \nL 297.388588 -49.40375 \nL 300.667927 -49.40375 \nL 303.947265 -49.40375 \nL 307.226604 -49.40375 \nL 310.505943 -49.40375 \nL 313.785282 -49.40375 \nL 317.064621 -49.40375 \nL 320.34396 -49.40375 \nL 323.623299 -49.40375 \nL 326.902637 -49.40375 \nL 330.181976 -49.40375 \nL 333.461315 -49.40375 \nL 336.740654 -49.40375 \nL 340.019993 -49.40375 \nL 343.299332 -49.40375 \nL 346.57867 -49.40375 \nL 349.858009 -49.40375 \nL 353.137348 -49.40375 \nL 356.416687 -49.40375 \nL 359.696026 -49.40375 \nL 362.975365 -49.40375 \nL 366.254704 -49.40375 \nL 369.534042 -49.40375 \nL 372.813381 -49.40375 \nL 376.09272 -49.40375 \nL 379.372059 -49.40375 \nL 382.651398 -49.40375 \nL 382.651398 -97.78775 \nL 382.651398 -97.78775 \nL 379.372059 -97.78775 \nL 376.09272 -97.78775 \nL 372.813381 -97.78775 \nL 369.534042 -97.78775 \nL 366.254704 -97.78775 \nL 362.975365 -97.78775 \nL 359.696026 -97.78775 \nL 356.416687 -97.78775 \nL 353.137348 -97.78775 \nL 349.858009 -97.78775 \nL 346.57867 -97.78775 \nL 343.299332 -97.78775 \nL 340.019993 -97.78775 \nL 336.740654 -97.78775 \nL 333.461315 -97.78775 \nL 330.181976 -97.78775 \nL 326.902637 -97.78775 \nL 323.623299 -97.78775 \nL 320.34396 -97.78775 \nL 317.064621 -97.78775 \nL 313.785282 -97.78775 \nL 310.505943 -97.78775 \nL 307.226604 -97.78775 \nL 303.947265 -97.78775 \nL 300.667927 -97.78775 \nL 297.388588 -97.78775 \nL 294.109249 -97.78775 \nL 290.82991 -97.78775 \nL 287.550571 -97.78775 \nL 284.271232 -97.78775 \nL 280.991894 -97.78775 \nL 277.712555 -97.78775 \nL 274.433216 -97.78775 \nL 271.153877 -97.78775 \nL 267.874538 -97.78775 \nL 264.595199 -97.78775 \nL 261.315861 -97.78775 \nL 258.036522 -97.78775 \nL 254.757183 -97.78775 \nL 251.477844 -97.78775 \nL 248.198505 -97.78775 \nL 244.919166 -97.78775 \nL 241.639827 -97.78775 \nL 238.360489 -97.78775 \nL 235.08115 -97.78775 \nL 231.801811 -97.78775 \nL 228.522472 -97.78775 \nL 225.243133 -97.78775 \nL 221.963794 -97.78775 \nL 218.684456 -97.78775 \nL 215.405117 -97.78775 \nL 212.125778 -97.78775 \nL 208.846439 -97.78775 \nL 205.5671 -97.78775 \nL 202.287761 -97.78775 \nL 199.008423 -97.78775 \nL 195.729084 -97.78775 \nL 192.449745 -97.78775 \nL 189.170406 -97.78775 \nL 185.891067 -97.78775 \nL 182.611728 -97.78775 \nL 179.332389 -97.78775 \nL 176.053051 -97.78775 \nL 172.773712 -97.78775 \nL 169.494373 -97.78775 \nL 166.215034 -97.78775 \nL 162.935695 -97.78775 \nL 159.656356 -97.78775 \nL 156.377018 -97.78775 \nL 153.097679 -97.78775 \nL 149.81834 -97.78775 \nL 146.539001 -97.78775 \nL 143.259662 -97.78775 \nL 139.980323 -97.78775 \nL 136.700985 -97.78775 \nL 133.421646 -97.78775 \nL 130.142307 -97.78775 \nL 126.862968 -97.78775 \nL 123.583629 -97.78775 \nL 120.30429 -97.78775 \nL 117.024951 -97.78775 \nL 113.745613 -97.78775 \nL 110.466274 -97.78775 \nL 107.186935 -97.78775 \nL 103.907596 -97.78775 \nL 100.628257 -97.78775 \nL 97.348918 -97.78775 \nL 94.06958 -97.78775 \nL 90.790241 -97.78775 \nL 87.510902 -97.78775 \nL 84.231563 -97.78775 \nL 80.952224 -97.78775 \nL 77.672885 -97.78775 \nL 74.393546 -97.78775 \nL 71.114208 -97.78775 \nL 67.834869 -97.78775 \nL 64.55553 -97.78775 \nL 61.276191 -97.78775 \nL 57.996852 -97.78775 \nz\n\" style=\"stroke: #ffffff; stroke-opacity: 0.3; stroke-width: 0.8\"/>\n    </defs>\n    <g clip-path=\"url(#p9a02f945bf)\">\n     <use xlink:href=\"#m71115a53ee\" x=\"0\" y=\"323.91425\" style=\"fill: #1f77b4; fill-opacity: 0.3; stroke: #ffffff; stroke-opacity: 0.3; stroke-width: 0.8\"/>\n    </g>\n   </g>\n   <g id=\"line2d_29\">\n    <path d=\"M 57.996852 32.5905 \nL 61.276191 32.5905 \nL 64.55553 32.5905 \nL 67.834869 32.5905 \nL 71.114208 32.5905 \nL 74.393546 32.5905 \nL 77.672885 32.5905 \nL 80.952224 32.5905 \nL 84.231563 32.5905 \nL 87.510902 32.5905 \nL 90.790241 32.5905 \nL 94.06958 32.5905 \nL 97.348918 32.5905 \nL 100.628257 32.5905 \nL 103.907596 32.5905 \nL 107.186935 32.5905 \nL 110.466274 32.5905 \nL 113.745613 32.5905 \nL 117.024951 32.5905 \nL 120.30429 32.5905 \nL 123.583629 32.5905 \nL 126.862968 32.5905 \nL 130.142307 32.5905 \nL 133.421646 32.5905 \nL 136.700985 32.5905 \nL 139.980323 32.5905 \nL 143.259662 32.5905 \nL 146.539001 32.5905 \nL 149.81834 32.5905 \nL 153.097679 32.5905 \nL 156.377018 32.5905 \nL 159.656356 32.5905 \nL 162.935695 32.5905 \nL 166.215034 32.5905 \nL 169.494373 32.5905 \nL 172.773712 32.5905 \nL 176.053051 32.5905 \nL 179.332389 32.5905 \nL 182.611728 32.5905 \nL 185.891067 32.5905 \nL 189.170406 274.5105 \nL 192.449745 274.5105 \nL 195.729084 274.5105 \nL 199.008423 274.5105 \nL 202.287761 274.5105 \nL 205.5671 274.5105 \nL 208.846439 274.5105 \nL 212.125778 274.5105 \nL 215.405117 274.5105 \nL 218.684456 274.5105 \nL 221.963794 274.5105 \nL 225.243133 274.5105 \nL 228.522472 274.5105 \nL 231.801811 274.5105 \nL 235.08115 274.5105 \nL 238.360489 274.5105 \nL 241.639827 274.5105 \nL 244.919166 274.5105 \nL 248.198505 274.5105 \nL 251.477844 274.5105 \nL 254.757183 274.5105 \nL 258.036522 274.5105 \nL 261.315861 274.5105 \nL 264.595199 274.5105 \nL 267.874538 274.5105 \nL 271.153877 274.5105 \nL 274.433216 274.5105 \nL 277.712555 274.5105 \nL 280.991894 274.5105 \nL 284.271232 274.5105 \nL 287.550571 274.5105 \nL 290.82991 274.5105 \nL 294.109249 274.5105 \nL 297.388588 274.5105 \nL 300.667927 274.5105 \nL 303.947265 274.5105 \nL 307.226604 274.5105 \nL 310.505943 274.5105 \nL 313.785282 274.5105 \nL 317.064621 274.5105 \nL 320.34396 274.5105 \nL 323.623299 274.5105 \nL 326.902637 274.5105 \nL 330.181976 274.5105 \nL 333.461315 274.5105 \nL 336.740654 274.5105 \nL 340.019993 274.5105 \nL 343.299332 274.5105 \nL 346.57867 274.5105 \nL 349.858009 274.5105 \nL 353.137348 274.5105 \nL 356.416687 274.5105 \nL 359.696026 274.5105 \nL 362.975365 274.5105 \nL 366.254704 274.5105 \nL 369.534042 274.5105 \nL 372.813381 274.5105 \nL 376.09272 274.5105 \nL 379.372059 274.5105 \nL 382.651398 274.5105 \n\" clip-path=\"url(#p9a02f945bf)\" style=\"fill: none; stroke: #1f77b4; stroke-width: 1.2; stroke-linecap: round\"/>\n   </g>\n   <g id=\"patch_3\">\n    <path d=\"M 41.764125 274.5105 \nL 41.764125 32.5905 \n\" style=\"fill: none; stroke: #262626; stroke-linejoin: miter; stroke-linecap: square\"/>\n   </g>\n   <g id=\"patch_4\">\n    <path d=\"M 57.996852 286.6065 \nL 361.007761 286.6065 \n\" style=\"fill: none; stroke: #262626; stroke-linejoin: miter; stroke-linecap: square\"/>\n   </g>\n   <g id=\"text_17\">\n    <!-- Shear Force Diagram -->\n    <g style=\"fill: #262626\" transform=\"translate(169.725375 14.4945) scale(0.096 -0.096)\">\n     <defs>\n      <path id=\"DejaVuSans-67\" d=\"M 2906 1791 \nQ 2906 2416 2648 2759 \nQ 2391 3103 1925 3103 \nQ 1463 3103 1205 2759 \nQ 947 2416 947 1791 \nQ 947 1169 1205 825 \nQ 1463 481 1925 481 \nQ 2391 481 2648 825 \nQ 2906 1169 2906 1791 \nz\nM 3481 434 \nQ 3481 -459 3084 -895 \nQ 2688 -1331 1869 -1331 \nQ 1566 -1331 1297 -1286 \nQ 1028 -1241 775 -1147 \nL 775 -588 \nQ 1028 -725 1275 -790 \nQ 1522 -856 1778 -856 \nQ 2344 -856 2625 -561 \nQ 2906 -266 2906 331 \nL 2906 616 \nQ 2728 306 2450 153 \nQ 2172 0 1784 0 \nQ 1141 0 747 490 \nQ 353 981 353 1791 \nQ 353 2603 747 3093 \nQ 1141 3584 1784 3584 \nQ 2172 3584 2450 3431 \nQ 2728 3278 2906 2969 \nL 2906 3500 \nL 3481 3500 \nL 3481 434 \nz\n\" transform=\"scale(0.015625)\"/>\n     </defs>\n     <use xlink:href=\"#DejaVuSans-53\"/>\n     <use xlink:href=\"#DejaVuSans-68\" transform=\"translate(63.476562 0)\"/>\n     <use xlink:href=\"#DejaVuSans-65\" transform=\"translate(126.855469 0)\"/>\n     <use xlink:href=\"#DejaVuSans-61\" transform=\"translate(188.378906 0)\"/>\n     <use xlink:href=\"#DejaVuSans-72\" transform=\"translate(249.658203 0)\"/>\n     <use xlink:href=\"#DejaVuSans-20\" transform=\"translate(290.771484 0)\"/>\n     <use xlink:href=\"#DejaVuSans-46\" transform=\"translate(322.558594 0)\"/>\n     <use xlink:href=\"#DejaVuSans-6f\" transform=\"translate(376.453125 0)\"/>\n     <use xlink:href=\"#DejaVuSans-72\" transform=\"translate(437.634766 0)\"/>\n     <use xlink:href=\"#DejaVuSans-63\" transform=\"translate(476.498047 0)\"/>\n     <use xlink:href=\"#DejaVuSans-65\" transform=\"translate(531.478516 0)\"/>\n     <use xlink:href=\"#DejaVuSans-20\" transform=\"translate(593.001953 0)\"/>\n     <use xlink:href=\"#DejaVuSans-44\" transform=\"translate(624.789062 0)\"/>\n     <use xlink:href=\"#DejaVuSans-69\" transform=\"translate(701.791016 0)\"/>\n     <use xlink:href=\"#DejaVuSans-61\" transform=\"translate(729.574219 0)\"/>\n     <use xlink:href=\"#DejaVuSans-67\" transform=\"translate(790.853516 0)\"/>\n     <use xlink:href=\"#DejaVuSans-72\" transform=\"translate(854.330078 0)\"/>\n     <use xlink:href=\"#DejaVuSans-61\" transform=\"translate(895.443359 0)\"/>\n     <use xlink:href=\"#DejaVuSans-6d\" transform=\"translate(956.722656 0)\"/>\n    </g>\n   </g>\n  </g>\n </g>\n <defs>\n  <clipPath id=\"p9a02f945bf\">\n   <rect x=\"41.764125\" y=\"20.4945\" width=\"357.12\" height=\"266.112\"/>\n  </clipPath>\n </defs>\n</svg>\n"
          },
          "metadata": {}
        }
      ],
      "source": [
        "# Create a figure and axis\n",
        "fig, ax = plt.subplots()\n",
        "# Plot the shear force diagram\n",
        "ax.plot(x, shear)\n",
        "# Shades between the x-axis and our shear force curve\n",
        "ax.fill_between(x, shear, 0, alpha=0.3)\n",
        "ax.set_xlabel('Distance (m)')\n",
        "ax.set_ylabel('Shear Force (kN)')\n",
        "ax.set_title('Shear Force Diagram')\n",
        "ax.grid(True)\n",
        "sns.despine(trim=True)\n",
        "plt.show()"
      ]
    },
    {
      "cell_type": "markdown",
      "metadata": {
        "id": "cIdCD4nz-wSa"
      },
      "source": [
        "I want you to make the plot for the bending moment diagram. Be careful with the applied moment at point C."
      ]
    },
    {
      "cell_type": "code",
      "execution_count": 76,
      "metadata": {
        "colab": {
          "base_uri": "https://localhost:8080/",
          "height": 453
        },
        "id": "L7VBPp4U-wSb",
        "outputId": "ef2438c6-bafa-498a-df7e-07256054acb8"
      },
      "outputs": [
        {
          "output_type": "display_data",
          "data": {
            "text/plain": [
              "<Figure size 640x480 with 1 Axes>"
            ],
            "image/svg+xml": "<?xml version=\"1.0\" encoding=\"utf-8\" standalone=\"no\"?>\n<!DOCTYPE svg PUBLIC \"-//W3C//DTD SVG 1.1//EN\"\n  \"http://www.w3.org/Graphics/SVG/1.1/DTD/svg11.dtd\">\n<svg xmlns:xlink=\"http://www.w3.org/1999/xlink\" width=\"404.309pt\" height=\"323.91425pt\" viewBox=\"0 0 404.309 323.91425\" xmlns=\"http://www.w3.org/2000/svg\" version=\"1.1\">\n <metadata>\n  <rdf:RDF xmlns:dc=\"http://purl.org/dc/elements/1.1/\" xmlns:cc=\"http://creativecommons.org/ns#\" xmlns:rdf=\"http://www.w3.org/1999/02/22-rdf-syntax-ns#\">\n   <cc:Work>\n    <dc:type rdf:resource=\"http://purl.org/dc/dcmitype/StillImage\"/>\n    <dc:date>2025-04-13T17:39:59.967100</dc:date>\n    <dc:format>image/svg+xml</dc:format>\n    <dc:creator>\n     <cc:Agent>\n      <dc:title>Matplotlib v3.10.0, https://matplotlib.org/</dc:title>\n     </cc:Agent>\n    </dc:creator>\n   </cc:Work>\n  </rdf:RDF>\n </metadata>\n <defs>\n  <style type=\"text/css\">*{stroke-linejoin: round; stroke-linecap: butt}</style>\n </defs>\n <g id=\"figure_1\">\n  <g id=\"patch_1\">\n   <path d=\"M 0 323.91425 \nL 404.309 323.91425 \nL 404.309 0 \nL 0 0 \nz\n\" style=\"fill: #ffffff\"/>\n  </g>\n  <g id=\"axes_1\">\n   <g id=\"patch_2\">\n    <path d=\"M 39.989 286.6065 \nL 397.109 286.6065 \nL 397.109 20.4945 \nL 39.989 20.4945 \nz\n\" style=\"fill: #ffffff\"/>\n   </g>\n   <g id=\"matplotlib.axis_1\">\n    <g id=\"xtick_1\">\n     <g id=\"line2d_1\">\n      <path d=\"M 56.221727 286.6065 \nL 56.221727 20.4945 \n\" clip-path=\"url(#p405f885fbf)\" style=\"fill: none; stroke: #cccccc; stroke-width: 0.8; stroke-linecap: round\"/>\n     </g>\n     <g id=\"line2d_2\">\n      <defs>\n       <path id=\"m1518dcab8d\" d=\"M 0 0 \nL 0 4.8 \n\" style=\"stroke: #262626\"/>\n      </defs>\n      <g>\n       <use xlink:href=\"#m1518dcab8d\" x=\"56.221727\" y=\"286.6065\" style=\"fill: #262626; stroke: #262626\"/>\n      </g>\n     </g>\n     <g id=\"text_1\">\n      <!-- 0 -->\n      <g style=\"fill: #262626\" transform=\"translate(53.422227 301.593125) scale(0.088 -0.088)\">\n       <defs>\n        <path id=\"DejaVuSans-30\" d=\"M 2034 4250 \nQ 1547 4250 1301 3770 \nQ 1056 3291 1056 2328 \nQ 1056 1369 1301 889 \nQ 1547 409 2034 409 \nQ 2525 409 2770 889 \nQ 3016 1369 3016 2328 \nQ 3016 3291 2770 3770 \nQ 2525 4250 2034 4250 \nz\nM 2034 4750 \nQ 2819 4750 3233 4129 \nQ 3647 3509 3647 2328 \nQ 3647 1150 3233 529 \nQ 2819 -91 2034 -91 \nQ 1250 -91 836 529 \nQ 422 1150 422 2328 \nQ 422 3509 836 4129 \nQ 1250 4750 2034 4750 \nz\n\" transform=\"scale(0.015625)\"/>\n       </defs>\n       <use xlink:href=\"#DejaVuSans-30\"/>\n      </g>\n     </g>\n    </g>\n    <g id=\"xtick_2\">\n     <g id=\"line2d_3\">\n      <path d=\"M 99.509 286.6065 \nL 99.509 20.4945 \n\" clip-path=\"url(#p405f885fbf)\" style=\"fill: none; stroke: #cccccc; stroke-width: 0.8; stroke-linecap: round\"/>\n     </g>\n     <g id=\"line2d_4\">\n      <g>\n       <use xlink:href=\"#m1518dcab8d\" x=\"99.509\" y=\"286.6065\" style=\"fill: #262626; stroke: #262626\"/>\n      </g>\n     </g>\n     <g id=\"text_2\">\n      <!-- 2 -->\n      <g style=\"fill: #262626\" transform=\"translate(96.7095 301.593125) scale(0.088 -0.088)\">\n       <defs>\n        <path id=\"DejaVuSans-32\" d=\"M 1228 531 \nL 3431 531 \nL 3431 0 \nL 469 0 \nL 469 531 \nQ 828 903 1448 1529 \nQ 2069 2156 2228 2338 \nQ 2531 2678 2651 2914 \nQ 2772 3150 2772 3378 \nQ 2772 3750 2511 3984 \nQ 2250 4219 1831 4219 \nQ 1534 4219 1204 4116 \nQ 875 4013 500 3803 \nL 500 4441 \nQ 881 4594 1212 4672 \nQ 1544 4750 1819 4750 \nQ 2544 4750 2975 4387 \nQ 3406 4025 3406 3419 \nQ 3406 3131 3298 2873 \nQ 3191 2616 2906 2266 \nQ 2828 2175 2409 1742 \nQ 1991 1309 1228 531 \nz\n\" transform=\"scale(0.015625)\"/>\n       </defs>\n       <use xlink:href=\"#DejaVuSans-32\"/>\n      </g>\n     </g>\n    </g>\n    <g id=\"xtick_3\">\n     <g id=\"line2d_5\">\n      <path d=\"M 142.796273 286.6065 \nL 142.796273 20.4945 \n\" clip-path=\"url(#p405f885fbf)\" style=\"fill: none; stroke: #cccccc; stroke-width: 0.8; stroke-linecap: round\"/>\n     </g>\n     <g id=\"line2d_6\">\n      <g>\n       <use xlink:href=\"#m1518dcab8d\" x=\"142.796273\" y=\"286.6065\" style=\"fill: #262626; stroke: #262626\"/>\n      </g>\n     </g>\n     <g id=\"text_3\">\n      <!-- 4 -->\n      <g style=\"fill: #262626\" transform=\"translate(139.996773 301.593125) scale(0.088 -0.088)\">\n       <defs>\n        <path id=\"DejaVuSans-34\" d=\"M 2419 4116 \nL 825 1625 \nL 2419 1625 \nL 2419 4116 \nz\nM 2253 4666 \nL 3047 4666 \nL 3047 1625 \nL 3713 1625 \nL 3713 1100 \nL 3047 1100 \nL 3047 0 \nL 2419 0 \nL 2419 1100 \nL 313 1100 \nL 313 1709 \nL 2253 4666 \nz\n\" transform=\"scale(0.015625)\"/>\n       </defs>\n       <use xlink:href=\"#DejaVuSans-34\"/>\n      </g>\n     </g>\n    </g>\n    <g id=\"xtick_4\">\n     <g id=\"line2d_7\">\n      <path d=\"M 186.083545 286.6065 \nL 186.083545 20.4945 \n\" clip-path=\"url(#p405f885fbf)\" style=\"fill: none; stroke: #cccccc; stroke-width: 0.8; stroke-linecap: round\"/>\n     </g>\n     <g id=\"line2d_8\">\n      <g>\n       <use xlink:href=\"#m1518dcab8d\" x=\"186.083545\" y=\"286.6065\" style=\"fill: #262626; stroke: #262626\"/>\n      </g>\n     </g>\n     <g id=\"text_4\">\n      <!-- 6 -->\n      <g style=\"fill: #262626\" transform=\"translate(183.284045 301.593125) scale(0.088 -0.088)\">\n       <defs>\n        <path id=\"DejaVuSans-36\" d=\"M 2113 2584 \nQ 1688 2584 1439 2293 \nQ 1191 2003 1191 1497 \nQ 1191 994 1439 701 \nQ 1688 409 2113 409 \nQ 2538 409 2786 701 \nQ 3034 994 3034 1497 \nQ 3034 2003 2786 2293 \nQ 2538 2584 2113 2584 \nz\nM 3366 4563 \nL 3366 3988 \nQ 3128 4100 2886 4159 \nQ 2644 4219 2406 4219 \nQ 1781 4219 1451 3797 \nQ 1122 3375 1075 2522 \nQ 1259 2794 1537 2939 \nQ 1816 3084 2150 3084 \nQ 2853 3084 3261 2657 \nQ 3669 2231 3669 1497 \nQ 3669 778 3244 343 \nQ 2819 -91 2113 -91 \nQ 1303 -91 875 529 \nQ 447 1150 447 2328 \nQ 447 3434 972 4092 \nQ 1497 4750 2381 4750 \nQ 2619 4750 2861 4703 \nQ 3103 4656 3366 4563 \nz\n\" transform=\"scale(0.015625)\"/>\n       </defs>\n       <use xlink:href=\"#DejaVuSans-36\"/>\n      </g>\n     </g>\n    </g>\n    <g id=\"xtick_5\">\n     <g id=\"line2d_9\">\n      <path d=\"M 229.370818 286.6065 \nL 229.370818 20.4945 \n\" clip-path=\"url(#p405f885fbf)\" style=\"fill: none; stroke: #cccccc; stroke-width: 0.8; stroke-linecap: round\"/>\n     </g>\n     <g id=\"line2d_10\">\n      <g>\n       <use xlink:href=\"#m1518dcab8d\" x=\"229.370818\" y=\"286.6065\" style=\"fill: #262626; stroke: #262626\"/>\n      </g>\n     </g>\n     <g id=\"text_5\">\n      <!-- 8 -->\n      <g style=\"fill: #262626\" transform=\"translate(226.571318 301.593125) scale(0.088 -0.088)\">\n       <defs>\n        <path id=\"DejaVuSans-38\" d=\"M 2034 2216 \nQ 1584 2216 1326 1975 \nQ 1069 1734 1069 1313 \nQ 1069 891 1326 650 \nQ 1584 409 2034 409 \nQ 2484 409 2743 651 \nQ 3003 894 3003 1313 \nQ 3003 1734 2745 1975 \nQ 2488 2216 2034 2216 \nz\nM 1403 2484 \nQ 997 2584 770 2862 \nQ 544 3141 544 3541 \nQ 544 4100 942 4425 \nQ 1341 4750 2034 4750 \nQ 2731 4750 3128 4425 \nQ 3525 4100 3525 3541 \nQ 3525 3141 3298 2862 \nQ 3072 2584 2669 2484 \nQ 3125 2378 3379 2068 \nQ 3634 1759 3634 1313 \nQ 3634 634 3220 271 \nQ 2806 -91 2034 -91 \nQ 1263 -91 848 271 \nQ 434 634 434 1313 \nQ 434 1759 690 2068 \nQ 947 2378 1403 2484 \nz\nM 1172 3481 \nQ 1172 3119 1398 2916 \nQ 1625 2713 2034 2713 \nQ 2441 2713 2670 2916 \nQ 2900 3119 2900 3481 \nQ 2900 3844 2670 4047 \nQ 2441 4250 2034 4250 \nQ 1625 4250 1398 4047 \nQ 1172 3844 1172 3481 \nz\n\" transform=\"scale(0.015625)\"/>\n       </defs>\n       <use xlink:href=\"#DejaVuSans-38\"/>\n      </g>\n     </g>\n    </g>\n    <g id=\"xtick_6\">\n     <g id=\"line2d_11\">\n      <path d=\"M 272.658091 286.6065 \nL 272.658091 20.4945 \n\" clip-path=\"url(#p405f885fbf)\" style=\"fill: none; stroke: #cccccc; stroke-width: 0.8; stroke-linecap: round\"/>\n     </g>\n     <g id=\"line2d_12\">\n      <g>\n       <use xlink:href=\"#m1518dcab8d\" x=\"272.658091\" y=\"286.6065\" style=\"fill: #262626; stroke: #262626\"/>\n      </g>\n     </g>\n     <g id=\"text_6\">\n      <!-- 10 -->\n      <g style=\"fill: #262626\" transform=\"translate(267.059091 301.593125) scale(0.088 -0.088)\">\n       <defs>\n        <path id=\"DejaVuSans-31\" d=\"M 794 531 \nL 1825 531 \nL 1825 4091 \nL 703 3866 \nL 703 4441 \nL 1819 4666 \nL 2450 4666 \nL 2450 531 \nL 3481 531 \nL 3481 0 \nL 794 0 \nL 794 531 \nz\n\" transform=\"scale(0.015625)\"/>\n       </defs>\n       <use xlink:href=\"#DejaVuSans-31\"/>\n       <use xlink:href=\"#DejaVuSans-30\" transform=\"translate(63.623047 0)\"/>\n      </g>\n     </g>\n    </g>\n    <g id=\"xtick_7\">\n     <g id=\"line2d_13\">\n      <path d=\"M 315.945364 286.6065 \nL 315.945364 20.4945 \n\" clip-path=\"url(#p405f885fbf)\" style=\"fill: none; stroke: #cccccc; stroke-width: 0.8; stroke-linecap: round\"/>\n     </g>\n     <g id=\"line2d_14\">\n      <g>\n       <use xlink:href=\"#m1518dcab8d\" x=\"315.945364\" y=\"286.6065\" style=\"fill: #262626; stroke: #262626\"/>\n      </g>\n     </g>\n     <g id=\"text_7\">\n      <!-- 12 -->\n      <g style=\"fill: #262626\" transform=\"translate(310.346364 301.593125) scale(0.088 -0.088)\">\n       <use xlink:href=\"#DejaVuSans-31\"/>\n       <use xlink:href=\"#DejaVuSans-32\" transform=\"translate(63.623047 0)\"/>\n      </g>\n     </g>\n    </g>\n    <g id=\"xtick_8\">\n     <g id=\"line2d_15\">\n      <path d=\"M 359.232636 286.6065 \nL 359.232636 20.4945 \n\" clip-path=\"url(#p405f885fbf)\" style=\"fill: none; stroke: #cccccc; stroke-width: 0.8; stroke-linecap: round\"/>\n     </g>\n     <g id=\"line2d_16\">\n      <g>\n       <use xlink:href=\"#m1518dcab8d\" x=\"359.232636\" y=\"286.6065\" style=\"fill: #262626; stroke: #262626\"/>\n      </g>\n     </g>\n     <g id=\"text_8\">\n      <!-- 14 -->\n      <g style=\"fill: #262626\" transform=\"translate(353.633636 301.593125) scale(0.088 -0.088)\">\n       <use xlink:href=\"#DejaVuSans-31\"/>\n       <use xlink:href=\"#DejaVuSans-34\" transform=\"translate(63.623047 0)\"/>\n      </g>\n     </g>\n    </g>\n    <g id=\"text_9\">\n     <!-- Distance (m) -->\n     <g style=\"fill: #262626\" transform=\"translate(187.6145 314.71775) scale(0.096 -0.096)\">\n      <defs>\n       <path id=\"DejaVuSans-44\" d=\"M 1259 4147 \nL 1259 519 \nL 2022 519 \nQ 2988 519 3436 956 \nQ 3884 1394 3884 2338 \nQ 3884 3275 3436 3711 \nQ 2988 4147 2022 4147 \nL 1259 4147 \nz\nM 628 4666 \nL 1925 4666 \nQ 3281 4666 3915 4102 \nQ 4550 3538 4550 2338 \nQ 4550 1131 3912 565 \nQ 3275 0 1925 0 \nL 628 0 \nL 628 4666 \nz\n\" transform=\"scale(0.015625)\"/>\n       <path id=\"DejaVuSans-69\" d=\"M 603 3500 \nL 1178 3500 \nL 1178 0 \nL 603 0 \nL 603 3500 \nz\nM 603 4863 \nL 1178 4863 \nL 1178 4134 \nL 603 4134 \nL 603 4863 \nz\n\" transform=\"scale(0.015625)\"/>\n       <path id=\"DejaVuSans-73\" d=\"M 2834 3397 \nL 2834 2853 \nQ 2591 2978 2328 3040 \nQ 2066 3103 1784 3103 \nQ 1356 3103 1142 2972 \nQ 928 2841 928 2578 \nQ 928 2378 1081 2264 \nQ 1234 2150 1697 2047 \nL 1894 2003 \nQ 2506 1872 2764 1633 \nQ 3022 1394 3022 966 \nQ 3022 478 2636 193 \nQ 2250 -91 1575 -91 \nQ 1294 -91 989 -36 \nQ 684 19 347 128 \nL 347 722 \nQ 666 556 975 473 \nQ 1284 391 1588 391 \nQ 1994 391 2212 530 \nQ 2431 669 2431 922 \nQ 2431 1156 2273 1281 \nQ 2116 1406 1581 1522 \nL 1381 1569 \nQ 847 1681 609 1914 \nQ 372 2147 372 2553 \nQ 372 3047 722 3315 \nQ 1072 3584 1716 3584 \nQ 2034 3584 2315 3537 \nQ 2597 3491 2834 3397 \nz\n\" transform=\"scale(0.015625)\"/>\n       <path id=\"DejaVuSans-74\" d=\"M 1172 4494 \nL 1172 3500 \nL 2356 3500 \nL 2356 3053 \nL 1172 3053 \nL 1172 1153 \nQ 1172 725 1289 603 \nQ 1406 481 1766 481 \nL 2356 481 \nL 2356 0 \nL 1766 0 \nQ 1100 0 847 248 \nQ 594 497 594 1153 \nL 594 3053 \nL 172 3053 \nL 172 3500 \nL 594 3500 \nL 594 4494 \nL 1172 4494 \nz\n\" transform=\"scale(0.015625)\"/>\n       <path id=\"DejaVuSans-61\" d=\"M 2194 1759 \nQ 1497 1759 1228 1600 \nQ 959 1441 959 1056 \nQ 959 750 1161 570 \nQ 1363 391 1709 391 \nQ 2188 391 2477 730 \nQ 2766 1069 2766 1631 \nL 2766 1759 \nL 2194 1759 \nz\nM 3341 1997 \nL 3341 0 \nL 2766 0 \nL 2766 531 \nQ 2569 213 2275 61 \nQ 1981 -91 1556 -91 \nQ 1019 -91 701 211 \nQ 384 513 384 1019 \nQ 384 1609 779 1909 \nQ 1175 2209 1959 2209 \nL 2766 2209 \nL 2766 2266 \nQ 2766 2663 2505 2880 \nQ 2244 3097 1772 3097 \nQ 1472 3097 1187 3025 \nQ 903 2953 641 2809 \nL 641 3341 \nQ 956 3463 1253 3523 \nQ 1550 3584 1831 3584 \nQ 2591 3584 2966 3190 \nQ 3341 2797 3341 1997 \nz\n\" transform=\"scale(0.015625)\"/>\n       <path id=\"DejaVuSans-6e\" d=\"M 3513 2113 \nL 3513 0 \nL 2938 0 \nL 2938 2094 \nQ 2938 2591 2744 2837 \nQ 2550 3084 2163 3084 \nQ 1697 3084 1428 2787 \nQ 1159 2491 1159 1978 \nL 1159 0 \nL 581 0 \nL 581 3500 \nL 1159 3500 \nL 1159 2956 \nQ 1366 3272 1645 3428 \nQ 1925 3584 2291 3584 \nQ 2894 3584 3203 3211 \nQ 3513 2838 3513 2113 \nz\n\" transform=\"scale(0.015625)\"/>\n       <path id=\"DejaVuSans-63\" d=\"M 3122 3366 \nL 3122 2828 \nQ 2878 2963 2633 3030 \nQ 2388 3097 2138 3097 \nQ 1578 3097 1268 2742 \nQ 959 2388 959 1747 \nQ 959 1106 1268 751 \nQ 1578 397 2138 397 \nQ 2388 397 2633 464 \nQ 2878 531 3122 666 \nL 3122 134 \nQ 2881 22 2623 -34 \nQ 2366 -91 2075 -91 \nQ 1284 -91 818 406 \nQ 353 903 353 1747 \nQ 353 2603 823 3093 \nQ 1294 3584 2113 3584 \nQ 2378 3584 2631 3529 \nQ 2884 3475 3122 3366 \nz\n\" transform=\"scale(0.015625)\"/>\n       <path id=\"DejaVuSans-65\" d=\"M 3597 1894 \nL 3597 1613 \nL 953 1613 \nQ 991 1019 1311 708 \nQ 1631 397 2203 397 \nQ 2534 397 2845 478 \nQ 3156 559 3463 722 \nL 3463 178 \nQ 3153 47 2828 -22 \nQ 2503 -91 2169 -91 \nQ 1331 -91 842 396 \nQ 353 884 353 1716 \nQ 353 2575 817 3079 \nQ 1281 3584 2069 3584 \nQ 2775 3584 3186 3129 \nQ 3597 2675 3597 1894 \nz\nM 3022 2063 \nQ 3016 2534 2758 2815 \nQ 2500 3097 2075 3097 \nQ 1594 3097 1305 2825 \nQ 1016 2553 972 2059 \nL 3022 2063 \nz\n\" transform=\"scale(0.015625)\"/>\n       <path id=\"DejaVuSans-20\" transform=\"scale(0.015625)\"/>\n       <path id=\"DejaVuSans-28\" d=\"M 1984 4856 \nQ 1566 4138 1362 3434 \nQ 1159 2731 1159 2009 \nQ 1159 1288 1364 580 \nQ 1569 -128 1984 -844 \nL 1484 -844 \nQ 1016 -109 783 600 \nQ 550 1309 550 2009 \nQ 550 2706 781 3412 \nQ 1013 4119 1484 4856 \nL 1984 4856 \nz\n\" transform=\"scale(0.015625)\"/>\n       <path id=\"DejaVuSans-6d\" d=\"M 3328 2828 \nQ 3544 3216 3844 3400 \nQ 4144 3584 4550 3584 \nQ 5097 3584 5394 3201 \nQ 5691 2819 5691 2113 \nL 5691 0 \nL 5113 0 \nL 5113 2094 \nQ 5113 2597 4934 2840 \nQ 4756 3084 4391 3084 \nQ 3944 3084 3684 2787 \nQ 3425 2491 3425 1978 \nL 3425 0 \nL 2847 0 \nL 2847 2094 \nQ 2847 2600 2669 2842 \nQ 2491 3084 2119 3084 \nQ 1678 3084 1418 2786 \nQ 1159 2488 1159 1978 \nL 1159 0 \nL 581 0 \nL 581 3500 \nL 1159 3500 \nL 1159 2956 \nQ 1356 3278 1631 3431 \nQ 1906 3584 2284 3584 \nQ 2666 3584 2933 3390 \nQ 3200 3197 3328 2828 \nz\n\" transform=\"scale(0.015625)\"/>\n       <path id=\"DejaVuSans-29\" d=\"M 513 4856 \nL 1013 4856 \nQ 1481 4119 1714 3412 \nQ 1947 2706 1947 2009 \nQ 1947 1309 1714 600 \nQ 1481 -109 1013 -844 \nL 513 -844 \nQ 928 -128 1133 580 \nQ 1338 1288 1338 2009 \nQ 1338 2731 1133 3434 \nQ 928 4138 513 4856 \nz\n\" transform=\"scale(0.015625)\"/>\n      </defs>\n      <use xlink:href=\"#DejaVuSans-44\"/>\n      <use xlink:href=\"#DejaVuSans-69\" transform=\"translate(77.001953 0)\"/>\n      <use xlink:href=\"#DejaVuSans-73\" transform=\"translate(104.785156 0)\"/>\n      <use xlink:href=\"#DejaVuSans-74\" transform=\"translate(156.884766 0)\"/>\n      <use xlink:href=\"#DejaVuSans-61\" transform=\"translate(196.09375 0)\"/>\n      <use xlink:href=\"#DejaVuSans-6e\" transform=\"translate(257.373047 0)\"/>\n      <use xlink:href=\"#DejaVuSans-63\" transform=\"translate(320.751953 0)\"/>\n      <use xlink:href=\"#DejaVuSans-65\" transform=\"translate(375.732422 0)\"/>\n      <use xlink:href=\"#DejaVuSans-20\" transform=\"translate(437.255859 0)\"/>\n      <use xlink:href=\"#DejaVuSans-28\" transform=\"translate(469.042969 0)\"/>\n      <use xlink:href=\"#DejaVuSans-6d\" transform=\"translate(508.056641 0)\"/>\n      <use xlink:href=\"#DejaVuSans-29\" transform=\"translate(605.46875 0)\"/>\n     </g>\n    </g>\n   </g>\n   <g id=\"matplotlib.axis_2\">\n    <g id=\"ytick_1\">\n     <g id=\"line2d_17\">\n      <path d=\"M 39.989 274.5105 \nL 397.109 274.5105 \n\" clip-path=\"url(#p405f885fbf)\" style=\"fill: none; stroke: #cccccc; stroke-width: 0.8; stroke-linecap: round\"/>\n     </g>\n     <g id=\"line2d_18\">\n      <defs>\n       <path id=\"m10672f1e99\" d=\"M 0 0 \nL -4.8 0 \n\" style=\"stroke: #262626\"/>\n      </defs>\n      <g>\n       <use xlink:href=\"#m10672f1e99\" x=\"39.989\" y=\"274.5105\" style=\"fill: #262626; stroke: #262626\"/>\n      </g>\n     </g>\n     <g id=\"text_10\">\n      <!-- 0 -->\n      <g style=\"fill: #262626\" transform=\"translate(26.09 277.853812) scale(0.088 -0.088)\">\n       <use xlink:href=\"#DejaVuSans-30\"/>\n      </g>\n     </g>\n    </g>\n    <g id=\"ytick_2\">\n     <g id=\"line2d_19\">\n      <path d=\"M 39.989 223.982905 \nL 397.109 223.982905 \n\" clip-path=\"url(#p405f885fbf)\" style=\"fill: none; stroke: #cccccc; stroke-width: 0.8; stroke-linecap: round\"/>\n     </g>\n     <g id=\"line2d_20\">\n      <g>\n       <use xlink:href=\"#m10672f1e99\" x=\"39.989\" y=\"223.982905\" style=\"fill: #262626; stroke: #262626\"/>\n      </g>\n     </g>\n     <g id=\"text_11\">\n      <!-- 10 -->\n      <g style=\"fill: #262626\" transform=\"translate(20.491 227.326218) scale(0.088 -0.088)\">\n       <use xlink:href=\"#DejaVuSans-31\"/>\n       <use xlink:href=\"#DejaVuSans-30\" transform=\"translate(63.623047 0)\"/>\n      </g>\n     </g>\n    </g>\n    <g id=\"ytick_3\">\n     <g id=\"line2d_21\">\n      <path d=\"M 39.989 173.45531 \nL 397.109 173.45531 \n\" clip-path=\"url(#p405f885fbf)\" style=\"fill: none; stroke: #cccccc; stroke-width: 0.8; stroke-linecap: round\"/>\n     </g>\n     <g id=\"line2d_22\">\n      <g>\n       <use xlink:href=\"#m10672f1e99\" x=\"39.989\" y=\"173.45531\" style=\"fill: #262626; stroke: #262626\"/>\n      </g>\n     </g>\n     <g id=\"text_12\">\n      <!-- 20 -->\n      <g style=\"fill: #262626\" transform=\"translate(20.491 176.798623) scale(0.088 -0.088)\">\n       <use xlink:href=\"#DejaVuSans-32\"/>\n       <use xlink:href=\"#DejaVuSans-30\" transform=\"translate(63.623047 0)\"/>\n      </g>\n     </g>\n    </g>\n    <g id=\"ytick_4\">\n     <g id=\"line2d_23\">\n      <path d=\"M 39.989 122.927715 \nL 397.109 122.927715 \n\" clip-path=\"url(#p405f885fbf)\" style=\"fill: none; stroke: #cccccc; stroke-width: 0.8; stroke-linecap: round\"/>\n     </g>\n     <g id=\"line2d_24\">\n      <g>\n       <use xlink:href=\"#m10672f1e99\" x=\"39.989\" y=\"122.927715\" style=\"fill: #262626; stroke: #262626\"/>\n      </g>\n     </g>\n     <g id=\"text_13\">\n      <!-- 30 -->\n      <g style=\"fill: #262626\" transform=\"translate(20.491 126.271028) scale(0.088 -0.088)\">\n       <defs>\n        <path id=\"DejaVuSans-33\" d=\"M 2597 2516 \nQ 3050 2419 3304 2112 \nQ 3559 1806 3559 1356 \nQ 3559 666 3084 287 \nQ 2609 -91 1734 -91 \nQ 1441 -91 1130 -33 \nQ 819 25 488 141 \nL 488 750 \nQ 750 597 1062 519 \nQ 1375 441 1716 441 \nQ 2309 441 2620 675 \nQ 2931 909 2931 1356 \nQ 2931 1769 2642 2001 \nQ 2353 2234 1838 2234 \nL 1294 2234 \nL 1294 2753 \nL 1863 2753 \nQ 2328 2753 2575 2939 \nQ 2822 3125 2822 3475 \nQ 2822 3834 2567 4026 \nQ 2313 4219 1838 4219 \nQ 1578 4219 1281 4162 \nQ 984 4106 628 3988 \nL 628 4550 \nQ 988 4650 1302 4700 \nQ 1616 4750 1894 4750 \nQ 2613 4750 3031 4423 \nQ 3450 4097 3450 3541 \nQ 3450 3153 3228 2886 \nQ 3006 2619 2597 2516 \nz\n\" transform=\"scale(0.015625)\"/>\n       </defs>\n       <use xlink:href=\"#DejaVuSans-33\"/>\n       <use xlink:href=\"#DejaVuSans-30\" transform=\"translate(63.623047 0)\"/>\n      </g>\n     </g>\n    </g>\n    <g id=\"ytick_5\">\n     <g id=\"line2d_25\">\n      <path d=\"M 39.989 72.40012 \nL 397.109 72.40012 \n\" clip-path=\"url(#p405f885fbf)\" style=\"fill: none; stroke: #cccccc; stroke-width: 0.8; stroke-linecap: round\"/>\n     </g>\n     <g id=\"line2d_26\">\n      <g>\n       <use xlink:href=\"#m10672f1e99\" x=\"39.989\" y=\"72.40012\" style=\"fill: #262626; stroke: #262626\"/>\n      </g>\n     </g>\n     <g id=\"text_14\">\n      <!-- 40 -->\n      <g style=\"fill: #262626\" transform=\"translate(20.491 75.743433) scale(0.088 -0.088)\">\n       <use xlink:href=\"#DejaVuSans-34\"/>\n       <use xlink:href=\"#DejaVuSans-30\" transform=\"translate(63.623047 0)\"/>\n      </g>\n     </g>\n    </g>\n    <g id=\"ytick_6\">\n     <g id=\"line2d_27\">\n      <path d=\"M 39.989 21.872525 \nL 397.109 21.872525 \n\" clip-path=\"url(#p405f885fbf)\" style=\"fill: none; stroke: #cccccc; stroke-width: 0.8; stroke-linecap: round\"/>\n     </g>\n     <g id=\"line2d_28\">\n      <g>\n       <use xlink:href=\"#m10672f1e99\" x=\"39.989\" y=\"21.872525\" style=\"fill: #262626; stroke: #262626\"/>\n      </g>\n     </g>\n     <g id=\"text_15\">\n      <!-- 50 -->\n      <g style=\"fill: #262626\" transform=\"translate(20.491 25.215838) scale(0.088 -0.088)\">\n       <defs>\n        <path id=\"DejaVuSans-35\" d=\"M 691 4666 \nL 3169 4666 \nL 3169 4134 \nL 1269 4134 \nL 1269 2991 \nQ 1406 3038 1543 3061 \nQ 1681 3084 1819 3084 \nQ 2600 3084 3056 2656 \nQ 3513 2228 3513 1497 \nQ 3513 744 3044 326 \nQ 2575 -91 1722 -91 \nQ 1428 -91 1123 -41 \nQ 819 9 494 109 \nL 494 744 \nQ 775 591 1075 516 \nQ 1375 441 1709 441 \nQ 2250 441 2565 725 \nQ 2881 1009 2881 1497 \nQ 2881 1984 2565 2268 \nQ 2250 2553 1709 2553 \nQ 1456 2553 1204 2497 \nQ 953 2441 691 2322 \nL 691 4666 \nz\n\" transform=\"scale(0.015625)\"/>\n       </defs>\n       <use xlink:href=\"#DejaVuSans-35\"/>\n       <use xlink:href=\"#DejaVuSans-30\" transform=\"translate(63.623047 0)\"/>\n      </g>\n     </g>\n    </g>\n    <g id=\"text_16\">\n     <!-- Bending Moment (kN-m) -->\n     <g style=\"fill: #262626\" transform=\"translate(14.4945 212.51475) rotate(-90) scale(0.096 -0.096)\">\n      <defs>\n       <path id=\"DejaVuSans-42\" d=\"M 1259 2228 \nL 1259 519 \nL 2272 519 \nQ 2781 519 3026 730 \nQ 3272 941 3272 1375 \nQ 3272 1813 3026 2020 \nQ 2781 2228 2272 2228 \nL 1259 2228 \nz\nM 1259 4147 \nL 1259 2741 \nL 2194 2741 \nQ 2656 2741 2882 2914 \nQ 3109 3088 3109 3444 \nQ 3109 3797 2882 3972 \nQ 2656 4147 2194 4147 \nL 1259 4147 \nz\nM 628 4666 \nL 2241 4666 \nQ 2963 4666 3353 4366 \nQ 3744 4066 3744 3513 \nQ 3744 3084 3544 2831 \nQ 3344 2578 2956 2516 \nQ 3422 2416 3680 2098 \nQ 3938 1781 3938 1306 \nQ 3938 681 3513 340 \nQ 3088 0 2303 0 \nL 628 0 \nL 628 4666 \nz\n\" transform=\"scale(0.015625)\"/>\n       <path id=\"DejaVuSans-64\" d=\"M 2906 2969 \nL 2906 4863 \nL 3481 4863 \nL 3481 0 \nL 2906 0 \nL 2906 525 \nQ 2725 213 2448 61 \nQ 2172 -91 1784 -91 \nQ 1150 -91 751 415 \nQ 353 922 353 1747 \nQ 353 2572 751 3078 \nQ 1150 3584 1784 3584 \nQ 2172 3584 2448 3432 \nQ 2725 3281 2906 2969 \nz\nM 947 1747 \nQ 947 1113 1208 752 \nQ 1469 391 1925 391 \nQ 2381 391 2643 752 \nQ 2906 1113 2906 1747 \nQ 2906 2381 2643 2742 \nQ 2381 3103 1925 3103 \nQ 1469 3103 1208 2742 \nQ 947 2381 947 1747 \nz\n\" transform=\"scale(0.015625)\"/>\n       <path id=\"DejaVuSans-67\" d=\"M 2906 1791 \nQ 2906 2416 2648 2759 \nQ 2391 3103 1925 3103 \nQ 1463 3103 1205 2759 \nQ 947 2416 947 1791 \nQ 947 1169 1205 825 \nQ 1463 481 1925 481 \nQ 2391 481 2648 825 \nQ 2906 1169 2906 1791 \nz\nM 3481 434 \nQ 3481 -459 3084 -895 \nQ 2688 -1331 1869 -1331 \nQ 1566 -1331 1297 -1286 \nQ 1028 -1241 775 -1147 \nL 775 -588 \nQ 1028 -725 1275 -790 \nQ 1522 -856 1778 -856 \nQ 2344 -856 2625 -561 \nQ 2906 -266 2906 331 \nL 2906 616 \nQ 2728 306 2450 153 \nQ 2172 0 1784 0 \nQ 1141 0 747 490 \nQ 353 981 353 1791 \nQ 353 2603 747 3093 \nQ 1141 3584 1784 3584 \nQ 2172 3584 2450 3431 \nQ 2728 3278 2906 2969 \nL 2906 3500 \nL 3481 3500 \nL 3481 434 \nz\n\" transform=\"scale(0.015625)\"/>\n       <path id=\"DejaVuSans-4d\" d=\"M 628 4666 \nL 1569 4666 \nL 2759 1491 \nL 3956 4666 \nL 4897 4666 \nL 4897 0 \nL 4281 0 \nL 4281 4097 \nL 3078 897 \nL 2444 897 \nL 1241 4097 \nL 1241 0 \nL 628 0 \nL 628 4666 \nz\n\" transform=\"scale(0.015625)\"/>\n       <path id=\"DejaVuSans-6f\" d=\"M 1959 3097 \nQ 1497 3097 1228 2736 \nQ 959 2375 959 1747 \nQ 959 1119 1226 758 \nQ 1494 397 1959 397 \nQ 2419 397 2687 759 \nQ 2956 1122 2956 1747 \nQ 2956 2369 2687 2733 \nQ 2419 3097 1959 3097 \nz\nM 1959 3584 \nQ 2709 3584 3137 3096 \nQ 3566 2609 3566 1747 \nQ 3566 888 3137 398 \nQ 2709 -91 1959 -91 \nQ 1206 -91 779 398 \nQ 353 888 353 1747 \nQ 353 2609 779 3096 \nQ 1206 3584 1959 3584 \nz\n\" transform=\"scale(0.015625)\"/>\n       <path id=\"DejaVuSans-6b\" d=\"M 581 4863 \nL 1159 4863 \nL 1159 1991 \nL 2875 3500 \nL 3609 3500 \nL 1753 1863 \nL 3688 0 \nL 2938 0 \nL 1159 1709 \nL 1159 0 \nL 581 0 \nL 581 4863 \nz\n\" transform=\"scale(0.015625)\"/>\n       <path id=\"DejaVuSans-4e\" d=\"M 628 4666 \nL 1478 4666 \nL 3547 763 \nL 3547 4666 \nL 4159 4666 \nL 4159 0 \nL 3309 0 \nL 1241 3903 \nL 1241 0 \nL 628 0 \nL 628 4666 \nz\n\" transform=\"scale(0.015625)\"/>\n       <path id=\"DejaVuSans-2d\" d=\"M 313 2009 \nL 1997 2009 \nL 1997 1497 \nL 313 1497 \nL 313 2009 \nz\n\" transform=\"scale(0.015625)\"/>\n      </defs>\n      <use xlink:href=\"#DejaVuSans-42\"/>\n      <use xlink:href=\"#DejaVuSans-65\" transform=\"translate(68.603516 0)\"/>\n      <use xlink:href=\"#DejaVuSans-6e\" transform=\"translate(130.126953 0)\"/>\n      <use xlink:href=\"#DejaVuSans-64\" transform=\"translate(193.505859 0)\"/>\n      <use xlink:href=\"#DejaVuSans-69\" transform=\"translate(256.982422 0)\"/>\n      <use xlink:href=\"#DejaVuSans-6e\" transform=\"translate(284.765625 0)\"/>\n      <use xlink:href=\"#DejaVuSans-67\" transform=\"translate(348.144531 0)\"/>\n      <use xlink:href=\"#DejaVuSans-20\" transform=\"translate(411.621094 0)\"/>\n      <use xlink:href=\"#DejaVuSans-4d\" transform=\"translate(443.408203 0)\"/>\n      <use xlink:href=\"#DejaVuSans-6f\" transform=\"translate(529.6875 0)\"/>\n      <use xlink:href=\"#DejaVuSans-6d\" transform=\"translate(590.869141 0)\"/>\n      <use xlink:href=\"#DejaVuSans-65\" transform=\"translate(688.28125 0)\"/>\n      <use xlink:href=\"#DejaVuSans-6e\" transform=\"translate(749.804688 0)\"/>\n      <use xlink:href=\"#DejaVuSans-74\" transform=\"translate(813.183594 0)\"/>\n      <use xlink:href=\"#DejaVuSans-20\" transform=\"translate(852.392578 0)\"/>\n      <use xlink:href=\"#DejaVuSans-28\" transform=\"translate(884.179688 0)\"/>\n      <use xlink:href=\"#DejaVuSans-6b\" transform=\"translate(923.193359 0)\"/>\n      <use xlink:href=\"#DejaVuSans-4e\" transform=\"translate(981.103516 0)\"/>\n      <use xlink:href=\"#DejaVuSans-2d\" transform=\"translate(1055.908203 0)\"/>\n      <use xlink:href=\"#DejaVuSans-6d\" transform=\"translate(1091.992188 0)\"/>\n      <use xlink:href=\"#DejaVuSans-29\" transform=\"translate(1189.404297 0)\"/>\n     </g>\n    </g>\n   </g>\n   <g id=\"FillBetweenPolyCollection_1\">\n    <defs>\n     <path id=\"m25489098c8\" d=\"M 56.221727 -49.40375 \nL 56.221727 -49.40375 \nL 59.501066 -55.528307 \nL 62.780405 -61.652864 \nL 66.059744 -67.777421 \nL 69.339083 -73.901978 \nL 72.618421 -80.026535 \nL 75.89776 -86.151092 \nL 79.177099 -92.275649 \nL 82.456438 -98.400206 \nL 85.735777 -104.524763 \nL 89.015116 -110.64932 \nL 92.294455 -116.773877 \nL 95.573793 -122.898434 \nL 98.853132 -129.022991 \nL 102.132471 -135.147547 \nL 105.41181 -141.272104 \nL 108.691149 -147.396661 \nL 111.970488 -153.521218 \nL 115.249826 -159.645775 \nL 118.529165 -165.770332 \nL 121.808504 -171.894889 \nL 125.087843 -178.019446 \nL 128.367182 -184.144003 \nL 131.646521 -190.26856 \nL 134.92586 -196.393117 \nL 138.205198 -202.517674 \nL 141.484537 -208.642231 \nL 144.763876 -214.766788 \nL 148.043215 -220.891345 \nL 151.322554 -227.015902 \nL 154.601893 -233.140459 \nL 157.881231 -239.265016 \nL 161.16057 -245.389573 \nL 164.439909 -251.51413 \nL 167.719248 -257.638687 \nL 170.998587 -263.763244 \nL 174.277926 -269.887801 \nL 177.557264 -276.012358 \nL 180.836603 -282.136915 \nL 184.115942 -288.261472 \nL 187.395281 -291.32375 \nL 190.67462 -289.792611 \nL 193.953959 -288.261472 \nL 197.233298 -286.730332 \nL 200.512636 -285.199193 \nL 203.791975 -283.668054 \nL 207.071314 -282.136915 \nL 210.350653 -280.605775 \nL 213.629992 -279.074636 \nL 216.909331 -277.543497 \nL 220.188669 -276.012358 \nL 223.468008 -274.481218 \nL 226.747347 -272.950079 \nL 230.026686 -271.41894 \nL 233.306025 -269.887801 \nL 236.585364 -268.356661 \nL 239.864702 -266.825522 \nL 243.144041 -265.294383 \nL 246.42338 -263.763244 \nL 249.702719 -262.232104 \nL 252.982058 -200.067851 \nL 256.261397 -198.536712 \nL 259.540736 -197.005573 \nL 262.820074 -195.474434 \nL 266.099413 -193.943294 \nL 269.378752 -192.412155 \nL 272.658091 -190.881016 \nL 275.93743 -189.349877 \nL 279.216769 -187.818737 \nL 282.496107 -186.287598 \nL 285.775446 -184.756459 \nL 289.054785 -183.22532 \nL 292.334124 -181.69418 \nL 295.613463 -180.163041 \nL 298.892802 -178.631902 \nL 302.17214 -177.100763 \nL 305.451479 -175.569623 \nL 308.730818 -174.038484 \nL 312.010157 -172.507345 \nL 315.289496 -170.976206 \nL 318.568835 -169.445066 \nL 321.848174 -167.913927 \nL 325.127512 -166.382788 \nL 328.406851 -164.851649 \nL 331.68619 -163.320509 \nL 334.965529 -161.78937 \nL 338.244868 -160.258231 \nL 341.524207 -158.727092 \nL 344.803545 -157.195953 \nL 348.082884 -155.664813 \nL 351.362223 -154.133674 \nL 354.641562 -152.602535 \nL 357.920901 -151.071396 \nL 361.20024 -149.540256 \nL 364.479579 -148.009117 \nL 367.758917 -146.477978 \nL 371.038256 -144.946839 \nL 374.317595 -143.415699 \nL 377.596934 -141.88456 \nL 380.876273 -140.353421 \nL 380.876273 -49.40375 \nL 380.876273 -49.40375 \nL 377.596934 -49.40375 \nL 374.317595 -49.40375 \nL 371.038256 -49.40375 \nL 367.758917 -49.40375 \nL 364.479579 -49.40375 \nL 361.20024 -49.40375 \nL 357.920901 -49.40375 \nL 354.641562 -49.40375 \nL 351.362223 -49.40375 \nL 348.082884 -49.40375 \nL 344.803545 -49.40375 \nL 341.524207 -49.40375 \nL 338.244868 -49.40375 \nL 334.965529 -49.40375 \nL 331.68619 -49.40375 \nL 328.406851 -49.40375 \nL 325.127512 -49.40375 \nL 321.848174 -49.40375 \nL 318.568835 -49.40375 \nL 315.289496 -49.40375 \nL 312.010157 -49.40375 \nL 308.730818 -49.40375 \nL 305.451479 -49.40375 \nL 302.17214 -49.40375 \nL 298.892802 -49.40375 \nL 295.613463 -49.40375 \nL 292.334124 -49.40375 \nL 289.054785 -49.40375 \nL 285.775446 -49.40375 \nL 282.496107 -49.40375 \nL 279.216769 -49.40375 \nL 275.93743 -49.40375 \nL 272.658091 -49.40375 \nL 269.378752 -49.40375 \nL 266.099413 -49.40375 \nL 262.820074 -49.40375 \nL 259.540736 -49.40375 \nL 256.261397 -49.40375 \nL 252.982058 -49.40375 \nL 249.702719 -49.40375 \nL 246.42338 -49.40375 \nL 243.144041 -49.40375 \nL 239.864702 -49.40375 \nL 236.585364 -49.40375 \nL 233.306025 -49.40375 \nL 230.026686 -49.40375 \nL 226.747347 -49.40375 \nL 223.468008 -49.40375 \nL 220.188669 -49.40375 \nL 216.909331 -49.40375 \nL 213.629992 -49.40375 \nL 210.350653 -49.40375 \nL 207.071314 -49.40375 \nL 203.791975 -49.40375 \nL 200.512636 -49.40375 \nL 197.233298 -49.40375 \nL 193.953959 -49.40375 \nL 190.67462 -49.40375 \nL 187.395281 -49.40375 \nL 184.115942 -49.40375 \nL 180.836603 -49.40375 \nL 177.557264 -49.40375 \nL 174.277926 -49.40375 \nL 170.998587 -49.40375 \nL 167.719248 -49.40375 \nL 164.439909 -49.40375 \nL 161.16057 -49.40375 \nL 157.881231 -49.40375 \nL 154.601893 -49.40375 \nL 151.322554 -49.40375 \nL 148.043215 -49.40375 \nL 144.763876 -49.40375 \nL 141.484537 -49.40375 \nL 138.205198 -49.40375 \nL 134.92586 -49.40375 \nL 131.646521 -49.40375 \nL 128.367182 -49.40375 \nL 125.087843 -49.40375 \nL 121.808504 -49.40375 \nL 118.529165 -49.40375 \nL 115.249826 -49.40375 \nL 111.970488 -49.40375 \nL 108.691149 -49.40375 \nL 105.41181 -49.40375 \nL 102.132471 -49.40375 \nL 98.853132 -49.40375 \nL 95.573793 -49.40375 \nL 92.294455 -49.40375 \nL 89.015116 -49.40375 \nL 85.735777 -49.40375 \nL 82.456438 -49.40375 \nL 79.177099 -49.40375 \nL 75.89776 -49.40375 \nL 72.618421 -49.40375 \nL 69.339083 -49.40375 \nL 66.059744 -49.40375 \nL 62.780405 -49.40375 \nL 59.501066 -49.40375 \nL 56.221727 -49.40375 \nz\n\" style=\"stroke: #ffffff; stroke-opacity: 0.3; stroke-width: 0.8\"/>\n    </defs>\n    <g clip-path=\"url(#p405f885fbf)\">\n     <use xlink:href=\"#m25489098c8\" x=\"0\" y=\"323.91425\" style=\"fill: #1f77b4; fill-opacity: 0.3; stroke: #ffffff; stroke-opacity: 0.3; stroke-width: 0.8\"/>\n    </g>\n   </g>\n   <g id=\"line2d_29\">\n    <path d=\"M 56.221727 274.5105 \nL 59.501066 268.385943 \nL 62.780405 262.261386 \nL 66.059744 256.136829 \nL 69.339083 250.012272 \nL 72.618421 243.887715 \nL 75.89776 237.763158 \nL 79.177099 231.638601 \nL 82.456438 225.514044 \nL 85.735777 219.389487 \nL 89.015116 213.26493 \nL 92.294455 207.140373 \nL 95.573793 201.015816 \nL 98.853132 194.891259 \nL 102.132471 188.766703 \nL 105.41181 182.642146 \nL 108.691149 176.517589 \nL 111.970488 170.393032 \nL 115.249826 164.268475 \nL 118.529165 158.143918 \nL 121.808504 152.019361 \nL 125.087843 145.894804 \nL 128.367182 139.770247 \nL 131.646521 133.64569 \nL 134.92586 127.521133 \nL 138.205198 121.396576 \nL 141.484537 115.272019 \nL 144.763876 109.147462 \nL 148.043215 103.022905 \nL 151.322554 96.898348 \nL 154.601893 90.773791 \nL 157.881231 84.649234 \nL 161.16057 78.524677 \nL 164.439909 72.40012 \nL 167.719248 66.275563 \nL 170.998587 60.151006 \nL 174.277926 54.026449 \nL 177.557264 47.901892 \nL 180.836603 41.777335 \nL 184.115942 35.652778 \nL 187.395281 32.5905 \nL 190.67462 34.121639 \nL 193.953959 35.652778 \nL 197.233298 37.183918 \nL 200.512636 38.715057 \nL 203.791975 40.246196 \nL 207.071314 41.777335 \nL 210.350653 43.308475 \nL 213.629992 44.839614 \nL 216.909331 46.370753 \nL 220.188669 47.901892 \nL 223.468008 49.433032 \nL 226.747347 50.964171 \nL 230.026686 52.49531 \nL 233.306025 54.026449 \nL 236.585364 55.557589 \nL 239.864702 57.088728 \nL 243.144041 58.619867 \nL 246.42338 60.151006 \nL 249.702719 61.682146 \nL 252.982058 123.846399 \nL 256.261397 125.377538 \nL 259.540736 126.908677 \nL 262.820074 128.439816 \nL 266.099413 129.970956 \nL 269.378752 131.502095 \nL 272.658091 133.033234 \nL 275.93743 134.564373 \nL 279.216769 136.095513 \nL 282.496107 137.626652 \nL 285.775446 139.157791 \nL 289.054785 140.68893 \nL 292.334124 142.22007 \nL 295.613463 143.751209 \nL 298.892802 145.282348 \nL 302.17214 146.813487 \nL 305.451479 148.344627 \nL 308.730818 149.875766 \nL 312.010157 151.406905 \nL 315.289496 152.938044 \nL 318.568835 154.469184 \nL 321.848174 156.000323 \nL 325.127512 157.531462 \nL 328.406851 159.062601 \nL 331.68619 160.593741 \nL 334.965529 162.12488 \nL 338.244868 163.656019 \nL 341.524207 165.187158 \nL 344.803545 166.718297 \nL 348.082884 168.249437 \nL 351.362223 169.780576 \nL 354.641562 171.311715 \nL 357.920901 172.842854 \nL 361.20024 174.373994 \nL 364.479579 175.905133 \nL 367.758917 177.436272 \nL 371.038256 178.967411 \nL 374.317595 180.498551 \nL 377.596934 182.02969 \nL 380.876273 183.560829 \n\" clip-path=\"url(#p405f885fbf)\" style=\"fill: none; stroke: #1f77b4; stroke-width: 1.2; stroke-linecap: round\"/>\n   </g>\n   <g id=\"patch_3\">\n    <path d=\"M 39.989 274.5105 \nL 39.989 21.872525 \n\" style=\"fill: none; stroke: #262626; stroke-linejoin: miter; stroke-linecap: square\"/>\n   </g>\n   <g id=\"patch_4\">\n    <path d=\"M 56.221727 286.6065 \nL 359.232636 286.6065 \n\" style=\"fill: none; stroke: #262626; stroke-linejoin: miter; stroke-linecap: square\"/>\n   </g>\n   <g id=\"text_17\">\n    <!-- Bending Moment Diagram -->\n    <g style=\"fill: #262626\" transform=\"translate(155.4995 14.4945) scale(0.096 -0.096)\">\n     <defs>\n      <path id=\"DejaVuSans-72\" d=\"M 2631 2963 \nQ 2534 3019 2420 3045 \nQ 2306 3072 2169 3072 \nQ 1681 3072 1420 2755 \nQ 1159 2438 1159 1844 \nL 1159 0 \nL 581 0 \nL 581 3500 \nL 1159 3500 \nL 1159 2956 \nQ 1341 3275 1631 3429 \nQ 1922 3584 2338 3584 \nQ 2397 3584 2469 3576 \nQ 2541 3569 2628 3553 \nL 2631 2963 \nz\n\" transform=\"scale(0.015625)\"/>\n     </defs>\n     <use xlink:href=\"#DejaVuSans-42\"/>\n     <use xlink:href=\"#DejaVuSans-65\" transform=\"translate(68.603516 0)\"/>\n     <use xlink:href=\"#DejaVuSans-6e\" transform=\"translate(130.126953 0)\"/>\n     <use xlink:href=\"#DejaVuSans-64\" transform=\"translate(193.505859 0)\"/>\n     <use xlink:href=\"#DejaVuSans-69\" transform=\"translate(256.982422 0)\"/>\n     <use xlink:href=\"#DejaVuSans-6e\" transform=\"translate(284.765625 0)\"/>\n     <use xlink:href=\"#DejaVuSans-67\" transform=\"translate(348.144531 0)\"/>\n     <use xlink:href=\"#DejaVuSans-20\" transform=\"translate(411.621094 0)\"/>\n     <use xlink:href=\"#DejaVuSans-4d\" transform=\"translate(443.408203 0)\"/>\n     <use xlink:href=\"#DejaVuSans-6f\" transform=\"translate(529.6875 0)\"/>\n     <use xlink:href=\"#DejaVuSans-6d\" transform=\"translate(590.869141 0)\"/>\n     <use xlink:href=\"#DejaVuSans-65\" transform=\"translate(688.28125 0)\"/>\n     <use xlink:href=\"#DejaVuSans-6e\" transform=\"translate(749.804688 0)\"/>\n     <use xlink:href=\"#DejaVuSans-74\" transform=\"translate(813.183594 0)\"/>\n     <use xlink:href=\"#DejaVuSans-20\" transform=\"translate(852.392578 0)\"/>\n     <use xlink:href=\"#DejaVuSans-44\" transform=\"translate(884.179688 0)\"/>\n     <use xlink:href=\"#DejaVuSans-69\" transform=\"translate(961.181641 0)\"/>\n     <use xlink:href=\"#DejaVuSans-61\" transform=\"translate(988.964844 0)\"/>\n     <use xlink:href=\"#DejaVuSans-67\" transform=\"translate(1050.244141 0)\"/>\n     <use xlink:href=\"#DejaVuSans-72\" transform=\"translate(1113.720703 0)\"/>\n     <use xlink:href=\"#DejaVuSans-61\" transform=\"translate(1154.833984 0)\"/>\n     <use xlink:href=\"#DejaVuSans-6d\" transform=\"translate(1216.113281 0)\"/>\n    </g>\n   </g>\n  </g>\n </g>\n <defs>\n  <clipPath id=\"p405f885fbf\">\n   <rect x=\"39.989\" y=\"20.4945\" width=\"357.12\" height=\"266.112\"/>\n  </clipPath>\n </defs>\n</svg>\n"
          },
          "metadata": {}
        }
      ],
      "source": [
        "x = np.linspace(0, L, 100)\n",
        "bending_moment = np.zeros_like(x)\n",
        "\n",
        "for i, xi in enumerate(x):\n",
        "  bending_moment[i] = calc_bending_moment(xi)\n",
        "\n",
        "\n",
        "# Create a figure and axis\n",
        "fig, ax = plt.subplots()\n",
        "# Plot the shear force diagram\n",
        "ax.plot(x, bending_moment)\n",
        "# Shades between the x-axis and our shear force curve\n",
        "ax.fill_between(x, bending_moment, 0, alpha=0.3)\n",
        "ax.set_xlabel('Distance (m)')\n",
        "ax.set_ylabel('Bending Moment (kN-m)')\n",
        "ax.set_title('Bending Moment Diagram')\n",
        "ax.grid(True)\n",
        "sns.despine(trim=True)\n",
        "plt.show()"
      ]
    }
  ],
  "metadata": {
    "kernelspec": {
      "display_name": "Python 3",
      "language": "python",
      "name": "python3"
    },
    "language_info": {
      "codemirror_mode": {
        "name": "ipython",
        "version": 3
      },
      "file_extension": ".py",
      "mimetype": "text/x-python",
      "name": "python",
      "nbconvert_exporter": "python",
      "pygments_lexer": "ipython3",
      "version": "3.11.4"
    },
    "colab": {
      "provenance": []
    }
  },
  "nbformat": 4,
  "nbformat_minor": 0
}